{
 "cells": [
  {
   "cell_type": "code",
   "execution_count": 1,
   "id": "cc8bfa03",
   "metadata": {},
   "outputs": [],
   "source": [
    "import pandas as pd\n",
    "import numpy as np\n",
    "import seaborn as sns\n",
    "import scipy\n",
    "import sklearn\n",
    "import warnings\n",
    "warnings.filterwarnings('ignore')"
   ]
  },
  {
   "cell_type": "code",
   "execution_count": 8,
   "id": "355ab592",
   "metadata": {},
   "outputs": [],
   "source": [
    "pd.set_option('display.max_columns',None)"
   ]
  },
  {
   "cell_type": "code",
   "execution_count": 9,
   "id": "3e888e91",
   "metadata": {},
   "outputs": [
    {
     "data": {
      "text/html": [
       "<div>\n",
       "<style scoped>\n",
       "    .dataframe tbody tr th:only-of-type {\n",
       "        vertical-align: middle;\n",
       "    }\n",
       "\n",
       "    .dataframe tbody tr th {\n",
       "        vertical-align: top;\n",
       "    }\n",
       "\n",
       "    .dataframe thead th {\n",
       "        text-align: right;\n",
       "    }\n",
       "</style>\n",
       "<table border=\"1\" class=\"dataframe\">\n",
       "  <thead>\n",
       "    <tr style=\"text-align: right;\">\n",
       "      <th></th>\n",
       "      <th>Unnamed: 0</th>\n",
       "      <th>Date</th>\n",
       "      <th>AveragePrice</th>\n",
       "      <th>Total Volume</th>\n",
       "      <th>4046</th>\n",
       "      <th>4225</th>\n",
       "      <th>4770</th>\n",
       "      <th>Total Bags</th>\n",
       "      <th>Small Bags</th>\n",
       "      <th>Large Bags</th>\n",
       "      <th>XLarge Bags</th>\n",
       "      <th>type</th>\n",
       "      <th>year</th>\n",
       "      <th>region</th>\n",
       "    </tr>\n",
       "  </thead>\n",
       "  <tbody>\n",
       "    <tr>\n",
       "      <th>0</th>\n",
       "      <td>0</td>\n",
       "      <td>2015-12-27</td>\n",
       "      <td>1.33</td>\n",
       "      <td>64236.62</td>\n",
       "      <td>1036.74</td>\n",
       "      <td>54454.85</td>\n",
       "      <td>48.16</td>\n",
       "      <td>8696.87</td>\n",
       "      <td>8603.62</td>\n",
       "      <td>93.25</td>\n",
       "      <td>0.0</td>\n",
       "      <td>conventional</td>\n",
       "      <td>2015</td>\n",
       "      <td>Albany</td>\n",
       "    </tr>\n",
       "    <tr>\n",
       "      <th>1</th>\n",
       "      <td>1</td>\n",
       "      <td>2015-12-20</td>\n",
       "      <td>1.35</td>\n",
       "      <td>54876.98</td>\n",
       "      <td>674.28</td>\n",
       "      <td>44638.81</td>\n",
       "      <td>58.33</td>\n",
       "      <td>9505.56</td>\n",
       "      <td>9408.07</td>\n",
       "      <td>97.49</td>\n",
       "      <td>0.0</td>\n",
       "      <td>conventional</td>\n",
       "      <td>2015</td>\n",
       "      <td>Albany</td>\n",
       "    </tr>\n",
       "    <tr>\n",
       "      <th>2</th>\n",
       "      <td>2</td>\n",
       "      <td>2015-12-13</td>\n",
       "      <td>0.93</td>\n",
       "      <td>118220.22</td>\n",
       "      <td>794.70</td>\n",
       "      <td>109149.67</td>\n",
       "      <td>130.50</td>\n",
       "      <td>8145.35</td>\n",
       "      <td>8042.21</td>\n",
       "      <td>103.14</td>\n",
       "      <td>0.0</td>\n",
       "      <td>conventional</td>\n",
       "      <td>2015</td>\n",
       "      <td>Albany</td>\n",
       "    </tr>\n",
       "    <tr>\n",
       "      <th>3</th>\n",
       "      <td>3</td>\n",
       "      <td>2015-12-06</td>\n",
       "      <td>1.08</td>\n",
       "      <td>78992.15</td>\n",
       "      <td>1132.00</td>\n",
       "      <td>71976.41</td>\n",
       "      <td>72.58</td>\n",
       "      <td>5811.16</td>\n",
       "      <td>5677.40</td>\n",
       "      <td>133.76</td>\n",
       "      <td>0.0</td>\n",
       "      <td>conventional</td>\n",
       "      <td>2015</td>\n",
       "      <td>Albany</td>\n",
       "    </tr>\n",
       "    <tr>\n",
       "      <th>4</th>\n",
       "      <td>4</td>\n",
       "      <td>2015-11-29</td>\n",
       "      <td>1.28</td>\n",
       "      <td>51039.60</td>\n",
       "      <td>941.48</td>\n",
       "      <td>43838.39</td>\n",
       "      <td>75.78</td>\n",
       "      <td>6183.95</td>\n",
       "      <td>5986.26</td>\n",
       "      <td>197.69</td>\n",
       "      <td>0.0</td>\n",
       "      <td>conventional</td>\n",
       "      <td>2015</td>\n",
       "      <td>Albany</td>\n",
       "    </tr>\n",
       "    <tr>\n",
       "      <th>5</th>\n",
       "      <td>5</td>\n",
       "      <td>2015-11-22</td>\n",
       "      <td>1.26</td>\n",
       "      <td>55979.78</td>\n",
       "      <td>1184.27</td>\n",
       "      <td>48067.99</td>\n",
       "      <td>43.61</td>\n",
       "      <td>6683.91</td>\n",
       "      <td>6556.47</td>\n",
       "      <td>127.44</td>\n",
       "      <td>0.0</td>\n",
       "      <td>conventional</td>\n",
       "      <td>2015</td>\n",
       "      <td>Albany</td>\n",
       "    </tr>\n",
       "    <tr>\n",
       "      <th>6</th>\n",
       "      <td>6</td>\n",
       "      <td>2015-11-15</td>\n",
       "      <td>0.99</td>\n",
       "      <td>83453.76</td>\n",
       "      <td>1368.92</td>\n",
       "      <td>73672.72</td>\n",
       "      <td>93.26</td>\n",
       "      <td>8318.86</td>\n",
       "      <td>8196.81</td>\n",
       "      <td>122.05</td>\n",
       "      <td>0.0</td>\n",
       "      <td>conventional</td>\n",
       "      <td>2015</td>\n",
       "      <td>Albany</td>\n",
       "    </tr>\n",
       "    <tr>\n",
       "      <th>7</th>\n",
       "      <td>7</td>\n",
       "      <td>2015-11-08</td>\n",
       "      <td>0.98</td>\n",
       "      <td>109428.33</td>\n",
       "      <td>703.75</td>\n",
       "      <td>101815.36</td>\n",
       "      <td>80.00</td>\n",
       "      <td>6829.22</td>\n",
       "      <td>6266.85</td>\n",
       "      <td>562.37</td>\n",
       "      <td>0.0</td>\n",
       "      <td>conventional</td>\n",
       "      <td>2015</td>\n",
       "      <td>Albany</td>\n",
       "    </tr>\n",
       "  </tbody>\n",
       "</table>\n",
       "</div>"
      ],
      "text/plain": [
       "   Unnamed: 0        Date  AveragePrice  Total Volume     4046       4225  \\\n",
       "0           0  2015-12-27          1.33      64236.62  1036.74   54454.85   \n",
       "1           1  2015-12-20          1.35      54876.98   674.28   44638.81   \n",
       "2           2  2015-12-13          0.93     118220.22   794.70  109149.67   \n",
       "3           3  2015-12-06          1.08      78992.15  1132.00   71976.41   \n",
       "4           4  2015-11-29          1.28      51039.60   941.48   43838.39   \n",
       "5           5  2015-11-22          1.26      55979.78  1184.27   48067.99   \n",
       "6           6  2015-11-15          0.99      83453.76  1368.92   73672.72   \n",
       "7           7  2015-11-08          0.98     109428.33   703.75  101815.36   \n",
       "\n",
       "     4770  Total Bags  Small Bags  Large Bags  XLarge Bags          type  \\\n",
       "0   48.16     8696.87     8603.62       93.25          0.0  conventional   \n",
       "1   58.33     9505.56     9408.07       97.49          0.0  conventional   \n",
       "2  130.50     8145.35     8042.21      103.14          0.0  conventional   \n",
       "3   72.58     5811.16     5677.40      133.76          0.0  conventional   \n",
       "4   75.78     6183.95     5986.26      197.69          0.0  conventional   \n",
       "5   43.61     6683.91     6556.47      127.44          0.0  conventional   \n",
       "6   93.26     8318.86     8196.81      122.05          0.0  conventional   \n",
       "7   80.00     6829.22     6266.85      562.37          0.0  conventional   \n",
       "\n",
       "   year  region  \n",
       "0  2015  Albany  \n",
       "1  2015  Albany  \n",
       "2  2015  Albany  \n",
       "3  2015  Albany  \n",
       "4  2015  Albany  \n",
       "5  2015  Albany  \n",
       "6  2015  Albany  \n",
       "7  2015  Albany  "
      ]
     },
     "execution_count": 9,
     "metadata": {},
     "output_type": "execute_result"
    }
   ],
   "source": [
    "df=pd.read_csv('avocado.csv')\n",
    "df.head(8)"
   ]
  },
  {
   "cell_type": "code",
   "execution_count": 10,
   "id": "799a81d7",
   "metadata": {},
   "outputs": [
    {
     "data": {
      "text/plain": [
       "(18249, 14)"
      ]
     },
     "execution_count": 10,
     "metadata": {},
     "output_type": "execute_result"
    }
   ],
   "source": [
    "df.shape"
   ]
  },
  {
   "cell_type": "code",
   "execution_count": 11,
   "id": "ba9c6807",
   "metadata": {},
   "outputs": [
    {
     "data": {
      "text/plain": [
       "Index(['Unnamed: 0', 'Date', 'AveragePrice', 'Total Volume', '4046', '4225',\n",
       "       '4770', 'Total Bags', 'Small Bags', 'Large Bags', 'XLarge Bags', 'type',\n",
       "       'year', 'region'],\n",
       "      dtype='object')"
      ]
     },
     "execution_count": 11,
     "metadata": {},
     "output_type": "execute_result"
    }
   ],
   "source": [
    "df.columns"
   ]
  },
  {
   "cell_type": "code",
   "execution_count": 13,
   "id": "47a73f1d",
   "metadata": {},
   "outputs": [
    {
     "name": "stdout",
     "output_type": "stream",
     "text": [
      "<class 'pandas.core.frame.DataFrame'>\n",
      "RangeIndex: 18249 entries, 0 to 18248\n",
      "Data columns (total 14 columns):\n",
      " #   Column        Non-Null Count  Dtype  \n",
      "---  ------        --------------  -----  \n",
      " 0   Unnamed: 0    18249 non-null  int64  \n",
      " 1   Date          18249 non-null  object \n",
      " 2   AveragePrice  18249 non-null  float64\n",
      " 3   Total Volume  18249 non-null  float64\n",
      " 4   4046          18249 non-null  float64\n",
      " 5   4225          18249 non-null  float64\n",
      " 6   4770          18249 non-null  float64\n",
      " 7   Total Bags    18249 non-null  float64\n",
      " 8   Small Bags    18249 non-null  float64\n",
      " 9   Large Bags    18249 non-null  float64\n",
      " 10  XLarge Bags   18249 non-null  float64\n",
      " 11  type          18249 non-null  object \n",
      " 12  year          18249 non-null  int64  \n",
      " 13  region        18249 non-null  object \n",
      "dtypes: float64(9), int64(2), object(3)\n",
      "memory usage: 1.9+ MB\n"
     ]
    }
   ],
   "source": [
    "df.info()"
   ]
  },
  {
   "cell_type": "markdown",
   "id": "11a5937b",
   "metadata": {},
   "source": [
    "We can see from the information above that there are object dtypes, so we have to convert them into integer later."
   ]
  },
  {
   "cell_type": "code",
   "execution_count": 14,
   "id": "21dabf13",
   "metadata": {},
   "outputs": [
    {
     "data": {
      "text/plain": [
       "Unnamed: 0         53\n",
       "Date              169\n",
       "AveragePrice      259\n",
       "Total Volume    18237\n",
       "4046            17702\n",
       "4225            18103\n",
       "4770            12071\n",
       "Total Bags      18097\n",
       "Small Bags      17321\n",
       "Large Bags      15082\n",
       "XLarge Bags      5588\n",
       "type                2\n",
       "year                4\n",
       "region             54\n",
       "dtype: int64"
      ]
     },
     "execution_count": 14,
     "metadata": {},
     "output_type": "execute_result"
    }
   ],
   "source": [
    "df.nunique()"
   ]
  },
  {
   "cell_type": "markdown",
   "id": "cbe1a8d0",
   "metadata": {},
   "source": [
    "We will drop unnamed column, as it is just the indexing."
   ]
  },
  {
   "cell_type": "code",
   "execution_count": 16,
   "id": "c22e3579",
   "metadata": {},
   "outputs": [
    {
     "data": {
      "text/html": [
       "<div>\n",
       "<style scoped>\n",
       "    .dataframe tbody tr th:only-of-type {\n",
       "        vertical-align: middle;\n",
       "    }\n",
       "\n",
       "    .dataframe tbody tr th {\n",
       "        vertical-align: top;\n",
       "    }\n",
       "\n",
       "    .dataframe thead th {\n",
       "        text-align: right;\n",
       "    }\n",
       "</style>\n",
       "<table border=\"1\" class=\"dataframe\">\n",
       "  <thead>\n",
       "    <tr style=\"text-align: right;\">\n",
       "      <th></th>\n",
       "      <th>Date</th>\n",
       "      <th>AveragePrice</th>\n",
       "      <th>Total Volume</th>\n",
       "      <th>4046</th>\n",
       "      <th>4225</th>\n",
       "      <th>4770</th>\n",
       "      <th>Total Bags</th>\n",
       "      <th>Small Bags</th>\n",
       "      <th>Large Bags</th>\n",
       "      <th>XLarge Bags</th>\n",
       "      <th>type</th>\n",
       "      <th>year</th>\n",
       "      <th>region</th>\n",
       "    </tr>\n",
       "  </thead>\n",
       "  <tbody>\n",
       "    <tr>\n",
       "      <th>0</th>\n",
       "      <td>2015-12-27</td>\n",
       "      <td>1.33</td>\n",
       "      <td>64236.62</td>\n",
       "      <td>1036.74</td>\n",
       "      <td>54454.85</td>\n",
       "      <td>48.16</td>\n",
       "      <td>8696.87</td>\n",
       "      <td>8603.62</td>\n",
       "      <td>93.25</td>\n",
       "      <td>0.0</td>\n",
       "      <td>conventional</td>\n",
       "      <td>2015</td>\n",
       "      <td>Albany</td>\n",
       "    </tr>\n",
       "    <tr>\n",
       "      <th>1</th>\n",
       "      <td>2015-12-20</td>\n",
       "      <td>1.35</td>\n",
       "      <td>54876.98</td>\n",
       "      <td>674.28</td>\n",
       "      <td>44638.81</td>\n",
       "      <td>58.33</td>\n",
       "      <td>9505.56</td>\n",
       "      <td>9408.07</td>\n",
       "      <td>97.49</td>\n",
       "      <td>0.0</td>\n",
       "      <td>conventional</td>\n",
       "      <td>2015</td>\n",
       "      <td>Albany</td>\n",
       "    </tr>\n",
       "    <tr>\n",
       "      <th>2</th>\n",
       "      <td>2015-12-13</td>\n",
       "      <td>0.93</td>\n",
       "      <td>118220.22</td>\n",
       "      <td>794.70</td>\n",
       "      <td>109149.67</td>\n",
       "      <td>130.50</td>\n",
       "      <td>8145.35</td>\n",
       "      <td>8042.21</td>\n",
       "      <td>103.14</td>\n",
       "      <td>0.0</td>\n",
       "      <td>conventional</td>\n",
       "      <td>2015</td>\n",
       "      <td>Albany</td>\n",
       "    </tr>\n",
       "    <tr>\n",
       "      <th>3</th>\n",
       "      <td>2015-12-06</td>\n",
       "      <td>1.08</td>\n",
       "      <td>78992.15</td>\n",
       "      <td>1132.00</td>\n",
       "      <td>71976.41</td>\n",
       "      <td>72.58</td>\n",
       "      <td>5811.16</td>\n",
       "      <td>5677.40</td>\n",
       "      <td>133.76</td>\n",
       "      <td>0.0</td>\n",
       "      <td>conventional</td>\n",
       "      <td>2015</td>\n",
       "      <td>Albany</td>\n",
       "    </tr>\n",
       "    <tr>\n",
       "      <th>4</th>\n",
       "      <td>2015-11-29</td>\n",
       "      <td>1.28</td>\n",
       "      <td>51039.60</td>\n",
       "      <td>941.48</td>\n",
       "      <td>43838.39</td>\n",
       "      <td>75.78</td>\n",
       "      <td>6183.95</td>\n",
       "      <td>5986.26</td>\n",
       "      <td>197.69</td>\n",
       "      <td>0.0</td>\n",
       "      <td>conventional</td>\n",
       "      <td>2015</td>\n",
       "      <td>Albany</td>\n",
       "    </tr>\n",
       "  </tbody>\n",
       "</table>\n",
       "</div>"
      ],
      "text/plain": [
       "         Date  AveragePrice  Total Volume     4046       4225    4770  \\\n",
       "0  2015-12-27          1.33      64236.62  1036.74   54454.85   48.16   \n",
       "1  2015-12-20          1.35      54876.98   674.28   44638.81   58.33   \n",
       "2  2015-12-13          0.93     118220.22   794.70  109149.67  130.50   \n",
       "3  2015-12-06          1.08      78992.15  1132.00   71976.41   72.58   \n",
       "4  2015-11-29          1.28      51039.60   941.48   43838.39   75.78   \n",
       "\n",
       "   Total Bags  Small Bags  Large Bags  XLarge Bags          type  year  region  \n",
       "0     8696.87     8603.62       93.25          0.0  conventional  2015  Albany  \n",
       "1     9505.56     9408.07       97.49          0.0  conventional  2015  Albany  \n",
       "2     8145.35     8042.21      103.14          0.0  conventional  2015  Albany  \n",
       "3     5811.16     5677.40      133.76          0.0  conventional  2015  Albany  \n",
       "4     6183.95     5986.26      197.69          0.0  conventional  2015  Albany  "
      ]
     },
     "execution_count": 16,
     "metadata": {},
     "output_type": "execute_result"
    }
   ],
   "source": [
    "df.drop(['Unnamed: 0'],axis=1,inplace=True)\n",
    "df.head()"
   ]
  },
  {
   "cell_type": "code",
   "execution_count": 17,
   "id": "fa0ed9cd",
   "metadata": {},
   "outputs": [
    {
     "data": {
      "text/plain": [
       "(18249, 13)"
      ]
     },
     "execution_count": 17,
     "metadata": {},
     "output_type": "execute_result"
    }
   ],
   "source": [
    "df.shape"
   ]
  },
  {
   "cell_type": "code",
   "execution_count": 18,
   "id": "86839eda",
   "metadata": {},
   "outputs": [
    {
     "data": {
      "text/plain": [
       "<AxesSubplot:>"
      ]
     },
     "execution_count": 18,
     "metadata": {},
     "output_type": "execute_result"
    },
    {
     "data": {
      "image/png": "[encoded data removed]",
      "text/plain": [
       "<Figure size 432x288 with 1 Axes>"
      ]
     },
     "metadata": {
      "needs_background": "light"
     },
     "output_type": "display_data"
    }
   ],
   "source": [
    "df.dtypes.value_counts().plot(kind='bar')"
   ]
  },
  {
   "cell_type": "code",
   "execution_count": 19,
   "id": "6b81e0f9",
   "metadata": {},
   "outputs": [
    {
     "data": {
      "text/plain": [
       "Date            0\n",
       "AveragePrice    0\n",
       "Total Volume    0\n",
       "4046            0\n",
       "4225            0\n",
       "4770            0\n",
       "Total Bags      0\n",
       "Small Bags      0\n",
       "Large Bags      0\n",
       "XLarge Bags     0\n",
       "type            0\n",
       "year            0\n",
       "region          0\n",
       "dtype: int64"
      ]
     },
     "execution_count": 19,
     "metadata": {},
     "output_type": "execute_result"
    }
   ],
   "source": [
    "df.isnull().sum()"
   ]
  },
  {
   "cell_type": "markdown",
   "id": "832bb046",
   "metadata": {},
   "source": [
    "As we can see that there are no missing values, so we can check it through heatmap also and then can proceed further."
   ]
  },
  {
   "cell_type": "code",
   "execution_count": 20,
   "id": "167834ed",
   "metadata": {},
   "outputs": [
    {
     "data": {
      "text/plain": [
       "<AxesSubplot:>"
      ]
     },
     "execution_count": 20,
     "metadata": {},
     "output_type": "execute_result"
    },
    {
     "data": {
      "image/png": "[encoded data removed]",
      "text/plain": [
       "<Figure size 432x288 with 2 Axes>"
      ]
     },
     "metadata": {
      "needs_background": "light"
     },
     "output_type": "display_data"
    }
   ],
   "source": [
    "sns.heatmap(df.isnull())"
   ]
  },
  {
   "cell_type": "code",
   "execution_count": 21,
   "id": "82f47dbc",
   "metadata": {},
   "outputs": [
    {
     "data": {
      "text/html": [
       "<div>\n",
       "<style scoped>\n",
       "    .dataframe tbody tr th:only-of-type {\n",
       "        vertical-align: middle;\n",
       "    }\n",
       "\n",
       "    .dataframe tbody tr th {\n",
       "        vertical-align: top;\n",
       "    }\n",
       "\n",
       "    .dataframe thead th {\n",
       "        text-align: right;\n",
       "    }\n",
       "</style>\n",
       "<table border=\"1\" class=\"dataframe\">\n",
       "  <thead>\n",
       "    <tr style=\"text-align: right;\">\n",
       "      <th></th>\n",
       "      <th>Date</th>\n",
       "      <th>type</th>\n",
       "      <th>region</th>\n",
       "    </tr>\n",
       "  </thead>\n",
       "  <tbody>\n",
       "    <tr>\n",
       "      <th>0</th>\n",
       "      <td>2015-12-27</td>\n",
       "      <td>conventional</td>\n",
       "      <td>Albany</td>\n",
       "    </tr>\n",
       "    <tr>\n",
       "      <th>1</th>\n",
       "      <td>2015-12-20</td>\n",
       "      <td>conventional</td>\n",
       "      <td>Albany</td>\n",
       "    </tr>\n",
       "    <tr>\n",
       "      <th>2</th>\n",
       "      <td>2015-12-13</td>\n",
       "      <td>conventional</td>\n",
       "      <td>Albany</td>\n",
       "    </tr>\n",
       "    <tr>\n",
       "      <th>3</th>\n",
       "      <td>2015-12-06</td>\n",
       "      <td>conventional</td>\n",
       "      <td>Albany</td>\n",
       "    </tr>\n",
       "    <tr>\n",
       "      <th>4</th>\n",
       "      <td>2015-11-29</td>\n",
       "      <td>conventional</td>\n",
       "      <td>Albany</td>\n",
       "    </tr>\n",
       "    <tr>\n",
       "      <th>...</th>\n",
       "      <td>...</td>\n",
       "      <td>...</td>\n",
       "      <td>...</td>\n",
       "    </tr>\n",
       "    <tr>\n",
       "      <th>18244</th>\n",
       "      <td>2018-02-04</td>\n",
       "      <td>organic</td>\n",
       "      <td>WestTexNewMexico</td>\n",
       "    </tr>\n",
       "    <tr>\n",
       "      <th>18245</th>\n",
       "      <td>2018-01-28</td>\n",
       "      <td>organic</td>\n",
       "      <td>WestTexNewMexico</td>\n",
       "    </tr>\n",
       "    <tr>\n",
       "      <th>18246</th>\n",
       "      <td>2018-01-21</td>\n",
       "      <td>organic</td>\n",
       "      <td>WestTexNewMexico</td>\n",
       "    </tr>\n",
       "    <tr>\n",
       "      <th>18247</th>\n",
       "      <td>2018-01-14</td>\n",
       "      <td>organic</td>\n",
       "      <td>WestTexNewMexico</td>\n",
       "    </tr>\n",
       "    <tr>\n",
       "      <th>18248</th>\n",
       "      <td>2018-01-07</td>\n",
       "      <td>organic</td>\n",
       "      <td>WestTexNewMexico</td>\n",
       "    </tr>\n",
       "  </tbody>\n",
       "</table>\n",
       "<p>18249 rows × 3 columns</p>\n",
       "</div>"
      ],
      "text/plain": [
       "             Date          type            region\n",
       "0      2015-12-27  conventional            Albany\n",
       "1      2015-12-20  conventional            Albany\n",
       "2      2015-12-13  conventional            Albany\n",
       "3      2015-12-06  conventional            Albany\n",
       "4      2015-11-29  conventional            Albany\n",
       "...           ...           ...               ...\n",
       "18244  2018-02-04       organic  WestTexNewMexico\n",
       "18245  2018-01-28       organic  WestTexNewMexico\n",
       "18246  2018-01-21       organic  WestTexNewMexico\n",
       "18247  2018-01-14       organic  WestTexNewMexico\n",
       "18248  2018-01-07       organic  WestTexNewMexico\n",
       "\n",
       "[18249 rows x 3 columns]"
      ]
     },
     "execution_count": 21,
     "metadata": {},
     "output_type": "execute_result"
    }
   ],
   "source": [
    "categorical_cols = df.select_dtypes(include=['object']).columns.tolist()\n",
    "df[categorical_cols]"
   ]
  },
  {
   "cell_type": "markdown",
   "id": "c8630238",
   "metadata": {},
   "source": [
    "We have seen that there are three columns having object type of data, we will seggregate the date columns into date and month."
   ]
  },
  {
   "cell_type": "code",
   "execution_count": 22,
   "id": "d29078d6",
   "metadata": {},
   "outputs": [],
   "source": [
    "df['Date']=pd.to_datetime(df['Date'])\n",
    "df['Month']=df['Date'].apply(lambda x:x.month)\n",
    "df['Day']=df['Date'].apply(lambda x:x.day)"
   ]
  },
  {
   "cell_type": "code",
   "execution_count": 23,
   "id": "6ab4edf5",
   "metadata": {},
   "outputs": [
    {
     "name": "stdout",
     "output_type": "stream",
     "text": [
      "<class 'pandas.core.frame.DataFrame'>\n",
      "RangeIndex: 18249 entries, 0 to 18248\n",
      "Data columns (total 15 columns):\n",
      " #   Column        Non-Null Count  Dtype         \n",
      "---  ------        --------------  -----         \n",
      " 0   Date          18249 non-null  datetime64[ns]\n",
      " 1   AveragePrice  18249 non-null  float64       \n",
      " 2   Total Volume  18249 non-null  float64       \n",
      " 3   4046          18249 non-null  float64       \n",
      " 4   4225          18249 non-null  float64       \n",
      " 5   4770          18249 non-null  float64       \n",
      " 6   Total Bags    18249 non-null  float64       \n",
      " 7   Small Bags    18249 non-null  float64       \n",
      " 8   Large Bags    18249 non-null  float64       \n",
      " 9   XLarge Bags   18249 non-null  float64       \n",
      " 10  type          18249 non-null  object        \n",
      " 11  year          18249 non-null  int64         \n",
      " 12  region        18249 non-null  object        \n",
      " 13  Month         18249 non-null  int64         \n",
      " 14  Day           18249 non-null  int64         \n",
      "dtypes: datetime64[ns](1), float64(9), int64(3), object(2)\n",
      "memory usage: 2.1+ MB\n"
     ]
    }
   ],
   "source": [
    "df.info()"
   ]
  },
  {
   "cell_type": "code",
   "execution_count": 24,
   "id": "14464d76",
   "metadata": {},
   "outputs": [
    {
     "data": {
      "text/html": [
       "<div>\n",
       "<style scoped>\n",
       "    .dataframe tbody tr th:only-of-type {\n",
       "        vertical-align: middle;\n",
       "    }\n",
       "\n",
       "    .dataframe tbody tr th {\n",
       "        vertical-align: top;\n",
       "    }\n",
       "\n",
       "    .dataframe thead th {\n",
       "        text-align: right;\n",
       "    }\n",
       "</style>\n",
       "<table border=\"1\" class=\"dataframe\">\n",
       "  <thead>\n",
       "    <tr style=\"text-align: right;\">\n",
       "      <th></th>\n",
       "      <th>Date</th>\n",
       "      <th>AveragePrice</th>\n",
       "      <th>Total Volume</th>\n",
       "      <th>4046</th>\n",
       "      <th>4225</th>\n",
       "      <th>4770</th>\n",
       "      <th>Total Bags</th>\n",
       "      <th>Small Bags</th>\n",
       "      <th>Large Bags</th>\n",
       "      <th>XLarge Bags</th>\n",
       "      <th>type</th>\n",
       "      <th>year</th>\n",
       "      <th>region</th>\n",
       "      <th>Month</th>\n",
       "      <th>Day</th>\n",
       "    </tr>\n",
       "  </thead>\n",
       "  <tbody>\n",
       "    <tr>\n",
       "      <th>0</th>\n",
       "      <td>2015-12-27</td>\n",
       "      <td>1.33</td>\n",
       "      <td>64236.62</td>\n",
       "      <td>1036.74</td>\n",
       "      <td>54454.85</td>\n",
       "      <td>48.16</td>\n",
       "      <td>8696.87</td>\n",
       "      <td>8603.62</td>\n",
       "      <td>93.25</td>\n",
       "      <td>0.0</td>\n",
       "      <td>conventional</td>\n",
       "      <td>2015</td>\n",
       "      <td>Albany</td>\n",
       "      <td>12</td>\n",
       "      <td>27</td>\n",
       "    </tr>\n",
       "    <tr>\n",
       "      <th>1</th>\n",
       "      <td>2015-12-20</td>\n",
       "      <td>1.35</td>\n",
       "      <td>54876.98</td>\n",
       "      <td>674.28</td>\n",
       "      <td>44638.81</td>\n",
       "      <td>58.33</td>\n",
       "      <td>9505.56</td>\n",
       "      <td>9408.07</td>\n",
       "      <td>97.49</td>\n",
       "      <td>0.0</td>\n",
       "      <td>conventional</td>\n",
       "      <td>2015</td>\n",
       "      <td>Albany</td>\n",
       "      <td>12</td>\n",
       "      <td>20</td>\n",
       "    </tr>\n",
       "    <tr>\n",
       "      <th>2</th>\n",
       "      <td>2015-12-13</td>\n",
       "      <td>0.93</td>\n",
       "      <td>118220.22</td>\n",
       "      <td>794.70</td>\n",
       "      <td>109149.67</td>\n",
       "      <td>130.50</td>\n",
       "      <td>8145.35</td>\n",
       "      <td>8042.21</td>\n",
       "      <td>103.14</td>\n",
       "      <td>0.0</td>\n",
       "      <td>conventional</td>\n",
       "      <td>2015</td>\n",
       "      <td>Albany</td>\n",
       "      <td>12</td>\n",
       "      <td>13</td>\n",
       "    </tr>\n",
       "    <tr>\n",
       "      <th>3</th>\n",
       "      <td>2015-12-06</td>\n",
       "      <td>1.08</td>\n",
       "      <td>78992.15</td>\n",
       "      <td>1132.00</td>\n",
       "      <td>71976.41</td>\n",
       "      <td>72.58</td>\n",
       "      <td>5811.16</td>\n",
       "      <td>5677.40</td>\n",
       "      <td>133.76</td>\n",
       "      <td>0.0</td>\n",
       "      <td>conventional</td>\n",
       "      <td>2015</td>\n",
       "      <td>Albany</td>\n",
       "      <td>12</td>\n",
       "      <td>6</td>\n",
       "    </tr>\n",
       "    <tr>\n",
       "      <th>4</th>\n",
       "      <td>2015-11-29</td>\n",
       "      <td>1.28</td>\n",
       "      <td>51039.60</td>\n",
       "      <td>941.48</td>\n",
       "      <td>43838.39</td>\n",
       "      <td>75.78</td>\n",
       "      <td>6183.95</td>\n",
       "      <td>5986.26</td>\n",
       "      <td>197.69</td>\n",
       "      <td>0.0</td>\n",
       "      <td>conventional</td>\n",
       "      <td>2015</td>\n",
       "      <td>Albany</td>\n",
       "      <td>11</td>\n",
       "      <td>29</td>\n",
       "    </tr>\n",
       "  </tbody>\n",
       "</table>\n",
       "</div>"
      ],
      "text/plain": [
       "        Date  AveragePrice  Total Volume     4046       4225    4770  \\\n",
       "0 2015-12-27          1.33      64236.62  1036.74   54454.85   48.16   \n",
       "1 2015-12-20          1.35      54876.98   674.28   44638.81   58.33   \n",
       "2 2015-12-13          0.93     118220.22   794.70  109149.67  130.50   \n",
       "3 2015-12-06          1.08      78992.15  1132.00   71976.41   72.58   \n",
       "4 2015-11-29          1.28      51039.60   941.48   43838.39   75.78   \n",
       "\n",
       "   Total Bags  Small Bags  Large Bags  XLarge Bags          type  year  \\\n",
       "0     8696.87     8603.62       93.25          0.0  conventional  2015   \n",
       "1     9505.56     9408.07       97.49          0.0  conventional  2015   \n",
       "2     8145.35     8042.21      103.14          0.0  conventional  2015   \n",
       "3     5811.16     5677.40      133.76          0.0  conventional  2015   \n",
       "4     6183.95     5986.26      197.69          0.0  conventional  2015   \n",
       "\n",
       "   region  Month  Day  \n",
       "0  Albany     12   27  \n",
       "1  Albany     12   20  \n",
       "2  Albany     12   13  \n",
       "3  Albany     12    6  \n",
       "4  Albany     11   29  "
      ]
     },
     "execution_count": 24,
     "metadata": {},
     "output_type": "execute_result"
    }
   ],
   "source": [
    "df.head()"
   ]
  },
  {
   "cell_type": "code",
   "execution_count": 25,
   "id": "66bf1eec",
   "metadata": {},
   "outputs": [
    {
     "data": {
      "text/plain": [
       "<AxesSubplot:xlabel='type', ylabel='count'>"
      ]
     },
     "execution_count": 25,
     "metadata": {},
     "output_type": "execute_result"
    },
    {
     "data": {
      "image/png": "[encoded data removed]",
      "text/plain": [
       "<Figure size 432x288 with 1 Axes>"
      ]
     },
     "metadata": {
      "needs_background": "light"
     },
     "output_type": "display_data"
    }
   ],
   "source": [
    "sns.countplot(df.type)"
   ]
  },
  {
   "cell_type": "code",
   "execution_count": 26,
   "id": "e13197c3",
   "metadata": {},
   "outputs": [
    {
     "data": {
      "text/plain": [
       "<AxesSubplot:>"
      ]
     },
     "execution_count": 26,
     "metadata": {},
     "output_type": "execute_result"
    },
    {
     "data": {
      "image/png": "[encoded data removed]",
      "text/plain": [
       "<Figure size 432x288 with 1 Axes>"
      ]
     },
     "metadata": {
      "needs_background": "light"
     },
     "output_type": "display_data"
    }
   ],
   "source": [
    "df.type.value_counts().plot(kind='bar')"
   ]
  },
  {
   "cell_type": "markdown",
   "id": "04bc8cf0",
   "metadata": {},
   "source": [
    "There is no difference between values of conventional and Organic of type of avocado. So, we will not use SMOTE method,as it is already balanced."
   ]
  },
  {
   "cell_type": "code",
   "execution_count": 28,
   "id": "6bef9038",
   "metadata": {},
   "outputs": [],
   "source": [
    "first_column=df.pop('AveragePrice')"
   ]
  },
  {
   "cell_type": "code",
   "execution_count": 29,
   "id": "d89a2c3b",
   "metadata": {},
   "outputs": [],
   "source": [
    "df.insert(0, 'AveragePrice', first_column)"
   ]
  },
  {
   "cell_type": "code",
   "execution_count": 30,
   "id": "0440771d",
   "metadata": {},
   "outputs": [
    {
     "data": {
      "text/html": [
       "<div>\n",
       "<style scoped>\n",
       "    .dataframe tbody tr th:only-of-type {\n",
       "        vertical-align: middle;\n",
       "    }\n",
       "\n",
       "    .dataframe tbody tr th {\n",
       "        vertical-align: top;\n",
       "    }\n",
       "\n",
       "    .dataframe thead th {\n",
       "        text-align: right;\n",
       "    }\n",
       "</style>\n",
       "<table border=\"1\" class=\"dataframe\">\n",
       "  <thead>\n",
       "    <tr style=\"text-align: right;\">\n",
       "      <th></th>\n",
       "      <th>AveragePrice</th>\n",
       "      <th>Date</th>\n",
       "      <th>Total Volume</th>\n",
       "      <th>4046</th>\n",
       "      <th>4225</th>\n",
       "      <th>4770</th>\n",
       "      <th>Total Bags</th>\n",
       "      <th>Small Bags</th>\n",
       "      <th>Large Bags</th>\n",
       "      <th>XLarge Bags</th>\n",
       "      <th>type</th>\n",
       "      <th>year</th>\n",
       "      <th>region</th>\n",
       "      <th>Month</th>\n",
       "      <th>Day</th>\n",
       "    </tr>\n",
       "  </thead>\n",
       "  <tbody>\n",
       "    <tr>\n",
       "      <th>0</th>\n",
       "      <td>1.33</td>\n",
       "      <td>2015-12-27</td>\n",
       "      <td>64236.62</td>\n",
       "      <td>1036.74</td>\n",
       "      <td>54454.85</td>\n",
       "      <td>48.16</td>\n",
       "      <td>8696.87</td>\n",
       "      <td>8603.62</td>\n",
       "      <td>93.25</td>\n",
       "      <td>0.0</td>\n",
       "      <td>conventional</td>\n",
       "      <td>2015</td>\n",
       "      <td>Albany</td>\n",
       "      <td>12</td>\n",
       "      <td>27</td>\n",
       "    </tr>\n",
       "    <tr>\n",
       "      <th>1</th>\n",
       "      <td>1.35</td>\n",
       "      <td>2015-12-20</td>\n",
       "      <td>54876.98</td>\n",
       "      <td>674.28</td>\n",
       "      <td>44638.81</td>\n",
       "      <td>58.33</td>\n",
       "      <td>9505.56</td>\n",
       "      <td>9408.07</td>\n",
       "      <td>97.49</td>\n",
       "      <td>0.0</td>\n",
       "      <td>conventional</td>\n",
       "      <td>2015</td>\n",
       "      <td>Albany</td>\n",
       "      <td>12</td>\n",
       "      <td>20</td>\n",
       "    </tr>\n",
       "    <tr>\n",
       "      <th>2</th>\n",
       "      <td>0.93</td>\n",
       "      <td>2015-12-13</td>\n",
       "      <td>118220.22</td>\n",
       "      <td>794.70</td>\n",
       "      <td>109149.67</td>\n",
       "      <td>130.50</td>\n",
       "      <td>8145.35</td>\n",
       "      <td>8042.21</td>\n",
       "      <td>103.14</td>\n",
       "      <td>0.0</td>\n",
       "      <td>conventional</td>\n",
       "      <td>2015</td>\n",
       "      <td>Albany</td>\n",
       "      <td>12</td>\n",
       "      <td>13</td>\n",
       "    </tr>\n",
       "    <tr>\n",
       "      <th>3</th>\n",
       "      <td>1.08</td>\n",
       "      <td>2015-12-06</td>\n",
       "      <td>78992.15</td>\n",
       "      <td>1132.00</td>\n",
       "      <td>71976.41</td>\n",
       "      <td>72.58</td>\n",
       "      <td>5811.16</td>\n",
       "      <td>5677.40</td>\n",
       "      <td>133.76</td>\n",
       "      <td>0.0</td>\n",
       "      <td>conventional</td>\n",
       "      <td>2015</td>\n",
       "      <td>Albany</td>\n",
       "      <td>12</td>\n",
       "      <td>6</td>\n",
       "    </tr>\n",
       "    <tr>\n",
       "      <th>4</th>\n",
       "      <td>1.28</td>\n",
       "      <td>2015-11-29</td>\n",
       "      <td>51039.60</td>\n",
       "      <td>941.48</td>\n",
       "      <td>43838.39</td>\n",
       "      <td>75.78</td>\n",
       "      <td>6183.95</td>\n",
       "      <td>5986.26</td>\n",
       "      <td>197.69</td>\n",
       "      <td>0.0</td>\n",
       "      <td>conventional</td>\n",
       "      <td>2015</td>\n",
       "      <td>Albany</td>\n",
       "      <td>11</td>\n",
       "      <td>29</td>\n",
       "    </tr>\n",
       "  </tbody>\n",
       "</table>\n",
       "</div>"
      ],
      "text/plain": [
       "   AveragePrice       Date  Total Volume     4046       4225    4770  \\\n",
       "0          1.33 2015-12-27      64236.62  1036.74   54454.85   48.16   \n",
       "1          1.35 2015-12-20      54876.98   674.28   44638.81   58.33   \n",
       "2          0.93 2015-12-13     118220.22   794.70  109149.67  130.50   \n",
       "3          1.08 2015-12-06      78992.15  1132.00   71976.41   72.58   \n",
       "4          1.28 2015-11-29      51039.60   941.48   43838.39   75.78   \n",
       "\n",
       "   Total Bags  Small Bags  Large Bags  XLarge Bags          type  year  \\\n",
       "0     8696.87     8603.62       93.25          0.0  conventional  2015   \n",
       "1     9505.56     9408.07       97.49          0.0  conventional  2015   \n",
       "2     8145.35     8042.21      103.14          0.0  conventional  2015   \n",
       "3     5811.16     5677.40      133.76          0.0  conventional  2015   \n",
       "4     6183.95     5986.26      197.69          0.0  conventional  2015   \n",
       "\n",
       "   region  Month  Day  \n",
       "0  Albany     12   27  \n",
       "1  Albany     12   20  \n",
       "2  Albany     12   13  \n",
       "3  Albany     12    6  \n",
       "4  Albany     11   29  "
      ]
     },
     "execution_count": 30,
     "metadata": {},
     "output_type": "execute_result"
    }
   ],
   "source": [
    "df.head()"
   ]
  },
  {
   "cell_type": "code",
   "execution_count": 33,
   "id": "4b51235d",
   "metadata": {},
   "outputs": [],
   "source": [
    "last_column=df.pop('region')"
   ]
  },
  {
   "cell_type": "code",
   "execution_count": 35,
   "id": "48f305cb",
   "metadata": {},
   "outputs": [],
   "source": [
    "df.insert(14, 'region', last_column)"
   ]
  },
  {
   "cell_type": "code",
   "execution_count": 36,
   "id": "934822e2",
   "metadata": {},
   "outputs": [
    {
     "data": {
      "text/html": [
       "<div>\n",
       "<style scoped>\n",
       "    .dataframe tbody tr th:only-of-type {\n",
       "        vertical-align: middle;\n",
       "    }\n",
       "\n",
       "    .dataframe tbody tr th {\n",
       "        vertical-align: top;\n",
       "    }\n",
       "\n",
       "    .dataframe thead th {\n",
       "        text-align: right;\n",
       "    }\n",
       "</style>\n",
       "<table border=\"1\" class=\"dataframe\">\n",
       "  <thead>\n",
       "    <tr style=\"text-align: right;\">\n",
       "      <th></th>\n",
       "      <th>AveragePrice</th>\n",
       "      <th>Date</th>\n",
       "      <th>Total Volume</th>\n",
       "      <th>4046</th>\n",
       "      <th>4225</th>\n",
       "      <th>4770</th>\n",
       "      <th>Total Bags</th>\n",
       "      <th>Small Bags</th>\n",
       "      <th>Large Bags</th>\n",
       "      <th>XLarge Bags</th>\n",
       "      <th>type</th>\n",
       "      <th>year</th>\n",
       "      <th>Month</th>\n",
       "      <th>Day</th>\n",
       "      <th>region</th>\n",
       "    </tr>\n",
       "  </thead>\n",
       "  <tbody>\n",
       "    <tr>\n",
       "      <th>0</th>\n",
       "      <td>1.33</td>\n",
       "      <td>2015-12-27</td>\n",
       "      <td>64236.62</td>\n",
       "      <td>1036.74</td>\n",
       "      <td>54454.85</td>\n",
       "      <td>48.16</td>\n",
       "      <td>8696.87</td>\n",
       "      <td>8603.62</td>\n",
       "      <td>93.25</td>\n",
       "      <td>0.0</td>\n",
       "      <td>conventional</td>\n",
       "      <td>2015</td>\n",
       "      <td>12</td>\n",
       "      <td>27</td>\n",
       "      <td>Albany</td>\n",
       "    </tr>\n",
       "    <tr>\n",
       "      <th>1</th>\n",
       "      <td>1.35</td>\n",
       "      <td>2015-12-20</td>\n",
       "      <td>54876.98</td>\n",
       "      <td>674.28</td>\n",
       "      <td>44638.81</td>\n",
       "      <td>58.33</td>\n",
       "      <td>9505.56</td>\n",
       "      <td>9408.07</td>\n",
       "      <td>97.49</td>\n",
       "      <td>0.0</td>\n",
       "      <td>conventional</td>\n",
       "      <td>2015</td>\n",
       "      <td>12</td>\n",
       "      <td>20</td>\n",
       "      <td>Albany</td>\n",
       "    </tr>\n",
       "    <tr>\n",
       "      <th>2</th>\n",
       "      <td>0.93</td>\n",
       "      <td>2015-12-13</td>\n",
       "      <td>118220.22</td>\n",
       "      <td>794.70</td>\n",
       "      <td>109149.67</td>\n",
       "      <td>130.50</td>\n",
       "      <td>8145.35</td>\n",
       "      <td>8042.21</td>\n",
       "      <td>103.14</td>\n",
       "      <td>0.0</td>\n",
       "      <td>conventional</td>\n",
       "      <td>2015</td>\n",
       "      <td>12</td>\n",
       "      <td>13</td>\n",
       "      <td>Albany</td>\n",
       "    </tr>\n",
       "    <tr>\n",
       "      <th>3</th>\n",
       "      <td>1.08</td>\n",
       "      <td>2015-12-06</td>\n",
       "      <td>78992.15</td>\n",
       "      <td>1132.00</td>\n",
       "      <td>71976.41</td>\n",
       "      <td>72.58</td>\n",
       "      <td>5811.16</td>\n",
       "      <td>5677.40</td>\n",
       "      <td>133.76</td>\n",
       "      <td>0.0</td>\n",
       "      <td>conventional</td>\n",
       "      <td>2015</td>\n",
       "      <td>12</td>\n",
       "      <td>6</td>\n",
       "      <td>Albany</td>\n",
       "    </tr>\n",
       "    <tr>\n",
       "      <th>4</th>\n",
       "      <td>1.28</td>\n",
       "      <td>2015-11-29</td>\n",
       "      <td>51039.60</td>\n",
       "      <td>941.48</td>\n",
       "      <td>43838.39</td>\n",
       "      <td>75.78</td>\n",
       "      <td>6183.95</td>\n",
       "      <td>5986.26</td>\n",
       "      <td>197.69</td>\n",
       "      <td>0.0</td>\n",
       "      <td>conventional</td>\n",
       "      <td>2015</td>\n",
       "      <td>11</td>\n",
       "      <td>29</td>\n",
       "      <td>Albany</td>\n",
       "    </tr>\n",
       "  </tbody>\n",
       "</table>\n",
       "</div>"
      ],
      "text/plain": [
       "   AveragePrice       Date  Total Volume     4046       4225    4770  \\\n",
       "0          1.33 2015-12-27      64236.62  1036.74   54454.85   48.16   \n",
       "1          1.35 2015-12-20      54876.98   674.28   44638.81   58.33   \n",
       "2          0.93 2015-12-13     118220.22   794.70  109149.67  130.50   \n",
       "3          1.08 2015-12-06      78992.15  1132.00   71976.41   72.58   \n",
       "4          1.28 2015-11-29      51039.60   941.48   43838.39   75.78   \n",
       "\n",
       "   Total Bags  Small Bags  Large Bags  XLarge Bags          type  year  Month  \\\n",
       "0     8696.87     8603.62       93.25          0.0  conventional  2015     12   \n",
       "1     9505.56     9408.07       97.49          0.0  conventional  2015     12   \n",
       "2     8145.35     8042.21      103.14          0.0  conventional  2015     12   \n",
       "3     5811.16     5677.40      133.76          0.0  conventional  2015     12   \n",
       "4     6183.95     5986.26      197.69          0.0  conventional  2015     11   \n",
       "\n",
       "   Day  region  \n",
       "0   27  Albany  \n",
       "1   20  Albany  \n",
       "2   13  Albany  \n",
       "3    6  Albany  \n",
       "4   29  Albany  "
      ]
     },
     "execution_count": 36,
     "metadata": {},
     "output_type": "execute_result"
    }
   ],
   "source": [
    "df.head()"
   ]
  },
  {
   "cell_type": "markdown",
   "id": "c44b8451",
   "metadata": {},
   "source": [
    "We will drop the date column as we have already taken out Date and month from it."
   ]
  },
  {
   "cell_type": "code",
   "execution_count": 38,
   "id": "2a76b6be",
   "metadata": {},
   "outputs": [
    {
     "data": {
      "text/html": [
       "<div>\n",
       "<style scoped>\n",
       "    .dataframe tbody tr th:only-of-type {\n",
       "        vertical-align: middle;\n",
       "    }\n",
       "\n",
       "    .dataframe tbody tr th {\n",
       "        vertical-align: top;\n",
       "    }\n",
       "\n",
       "    .dataframe thead th {\n",
       "        text-align: right;\n",
       "    }\n",
       "</style>\n",
       "<table border=\"1\" class=\"dataframe\">\n",
       "  <thead>\n",
       "    <tr style=\"text-align: right;\">\n",
       "      <th></th>\n",
       "      <th>AveragePrice</th>\n",
       "      <th>Total Volume</th>\n",
       "      <th>4046</th>\n",
       "      <th>4225</th>\n",
       "      <th>4770</th>\n",
       "      <th>Total Bags</th>\n",
       "      <th>Small Bags</th>\n",
       "      <th>Large Bags</th>\n",
       "      <th>XLarge Bags</th>\n",
       "      <th>type</th>\n",
       "      <th>year</th>\n",
       "      <th>Month</th>\n",
       "      <th>Day</th>\n",
       "      <th>region</th>\n",
       "    </tr>\n",
       "  </thead>\n",
       "  <tbody>\n",
       "    <tr>\n",
       "      <th>0</th>\n",
       "      <td>1.33</td>\n",
       "      <td>64236.62</td>\n",
       "      <td>1036.74</td>\n",
       "      <td>54454.85</td>\n",
       "      <td>48.16</td>\n",
       "      <td>8696.87</td>\n",
       "      <td>8603.62</td>\n",
       "      <td>93.25</td>\n",
       "      <td>0.0</td>\n",
       "      <td>conventional</td>\n",
       "      <td>2015</td>\n",
       "      <td>12</td>\n",
       "      <td>27</td>\n",
       "      <td>Albany</td>\n",
       "    </tr>\n",
       "    <tr>\n",
       "      <th>1</th>\n",
       "      <td>1.35</td>\n",
       "      <td>54876.98</td>\n",
       "      <td>674.28</td>\n",
       "      <td>44638.81</td>\n",
       "      <td>58.33</td>\n",
       "      <td>9505.56</td>\n",
       "      <td>9408.07</td>\n",
       "      <td>97.49</td>\n",
       "      <td>0.0</td>\n",
       "      <td>conventional</td>\n",
       "      <td>2015</td>\n",
       "      <td>12</td>\n",
       "      <td>20</td>\n",
       "      <td>Albany</td>\n",
       "    </tr>\n",
       "    <tr>\n",
       "      <th>2</th>\n",
       "      <td>0.93</td>\n",
       "      <td>118220.22</td>\n",
       "      <td>794.70</td>\n",
       "      <td>109149.67</td>\n",
       "      <td>130.50</td>\n",
       "      <td>8145.35</td>\n",
       "      <td>8042.21</td>\n",
       "      <td>103.14</td>\n",
       "      <td>0.0</td>\n",
       "      <td>conventional</td>\n",
       "      <td>2015</td>\n",
       "      <td>12</td>\n",
       "      <td>13</td>\n",
       "      <td>Albany</td>\n",
       "    </tr>\n",
       "    <tr>\n",
       "      <th>3</th>\n",
       "      <td>1.08</td>\n",
       "      <td>78992.15</td>\n",
       "      <td>1132.00</td>\n",
       "      <td>71976.41</td>\n",
       "      <td>72.58</td>\n",
       "      <td>5811.16</td>\n",
       "      <td>5677.40</td>\n",
       "      <td>133.76</td>\n",
       "      <td>0.0</td>\n",
       "      <td>conventional</td>\n",
       "      <td>2015</td>\n",
       "      <td>12</td>\n",
       "      <td>6</td>\n",
       "      <td>Albany</td>\n",
       "    </tr>\n",
       "    <tr>\n",
       "      <th>4</th>\n",
       "      <td>1.28</td>\n",
       "      <td>51039.60</td>\n",
       "      <td>941.48</td>\n",
       "      <td>43838.39</td>\n",
       "      <td>75.78</td>\n",
       "      <td>6183.95</td>\n",
       "      <td>5986.26</td>\n",
       "      <td>197.69</td>\n",
       "      <td>0.0</td>\n",
       "      <td>conventional</td>\n",
       "      <td>2015</td>\n",
       "      <td>11</td>\n",
       "      <td>29</td>\n",
       "      <td>Albany</td>\n",
       "    </tr>\n",
       "  </tbody>\n",
       "</table>\n",
       "</div>"
      ],
      "text/plain": [
       "   AveragePrice  Total Volume     4046       4225    4770  Total Bags  \\\n",
       "0          1.33      64236.62  1036.74   54454.85   48.16     8696.87   \n",
       "1          1.35      54876.98   674.28   44638.81   58.33     9505.56   \n",
       "2          0.93     118220.22   794.70  109149.67  130.50     8145.35   \n",
       "3          1.08      78992.15  1132.00   71976.41   72.58     5811.16   \n",
       "4          1.28      51039.60   941.48   43838.39   75.78     6183.95   \n",
       "\n",
       "   Small Bags  Large Bags  XLarge Bags          type  year  Month  Day  region  \n",
       "0     8603.62       93.25          0.0  conventional  2015     12   27  Albany  \n",
       "1     9408.07       97.49          0.0  conventional  2015     12   20  Albany  \n",
       "2     8042.21      103.14          0.0  conventional  2015     12   13  Albany  \n",
       "3     5677.40      133.76          0.0  conventional  2015     12    6  Albany  \n",
       "4     5986.26      197.69          0.0  conventional  2015     11   29  Albany  "
      ]
     },
     "execution_count": 38,
     "metadata": {},
     "output_type": "execute_result"
    }
   ],
   "source": [
    "df.drop(['Date'],axis=1,inplace=True)\n",
    "df.head()"
   ]
  },
  {
   "cell_type": "code",
   "execution_count": 39,
   "id": "a61d9980",
   "metadata": {},
   "outputs": [
    {
     "data": {
      "text/plain": [
       "(18249, 14)"
      ]
     },
     "execution_count": 39,
     "metadata": {},
     "output_type": "execute_result"
    }
   ],
   "source": [
    "df.shape"
   ]
  },
  {
   "cell_type": "code",
   "execution_count": 41,
   "id": "fc778d73",
   "metadata": {},
   "outputs": [
    {
     "data": {
      "text/html": [
       "<div>\n",
       "<style scoped>\n",
       "    .dataframe tbody tr th:only-of-type {\n",
       "        vertical-align: middle;\n",
       "    }\n",
       "\n",
       "    .dataframe tbody tr th {\n",
       "        vertical-align: top;\n",
       "    }\n",
       "\n",
       "    .dataframe thead th {\n",
       "        text-align: right;\n",
       "    }\n",
       "</style>\n",
       "<table border=\"1\" class=\"dataframe\">\n",
       "  <thead>\n",
       "    <tr style=\"text-align: right;\">\n",
       "      <th></th>\n",
       "      <th>AveragePrice</th>\n",
       "      <th>Total Volume</th>\n",
       "      <th>4046</th>\n",
       "      <th>4225</th>\n",
       "      <th>4770</th>\n",
       "      <th>Total Bags</th>\n",
       "      <th>Small Bags</th>\n",
       "      <th>Large Bags</th>\n",
       "      <th>XLarge Bags</th>\n",
       "      <th>year</th>\n",
       "      <th>Month</th>\n",
       "      <th>Day</th>\n",
       "    </tr>\n",
       "  </thead>\n",
       "  <tbody>\n",
       "    <tr>\n",
       "      <th>count</th>\n",
       "      <td>18249.000000</td>\n",
       "      <td>1.824900e+04</td>\n",
       "      <td>1.824900e+04</td>\n",
       "      <td>1.824900e+04</td>\n",
       "      <td>1.824900e+04</td>\n",
       "      <td>1.824900e+04</td>\n",
       "      <td>1.824900e+04</td>\n",
       "      <td>1.824900e+04</td>\n",
       "      <td>18249.000000</td>\n",
       "      <td>18249.000000</td>\n",
       "      <td>18249.000000</td>\n",
       "      <td>18249.000000</td>\n",
       "    </tr>\n",
       "    <tr>\n",
       "      <th>mean</th>\n",
       "      <td>1.405978</td>\n",
       "      <td>8.506440e+05</td>\n",
       "      <td>2.930084e+05</td>\n",
       "      <td>2.951546e+05</td>\n",
       "      <td>2.283974e+04</td>\n",
       "      <td>2.396392e+05</td>\n",
       "      <td>1.821947e+05</td>\n",
       "      <td>5.433809e+04</td>\n",
       "      <td>3106.426507</td>\n",
       "      <td>2016.147899</td>\n",
       "      <td>6.177215</td>\n",
       "      <td>15.662612</td>\n",
       "    </tr>\n",
       "    <tr>\n",
       "      <th>std</th>\n",
       "      <td>0.402677</td>\n",
       "      <td>3.453545e+06</td>\n",
       "      <td>1.264989e+06</td>\n",
       "      <td>1.204120e+06</td>\n",
       "      <td>1.074641e+05</td>\n",
       "      <td>9.862424e+05</td>\n",
       "      <td>7.461785e+05</td>\n",
       "      <td>2.439660e+05</td>\n",
       "      <td>17692.894652</td>\n",
       "      <td>0.939938</td>\n",
       "      <td>3.534130</td>\n",
       "      <td>8.776281</td>\n",
       "    </tr>\n",
       "    <tr>\n",
       "      <th>min</th>\n",
       "      <td>0.440000</td>\n",
       "      <td>8.456000e+01</td>\n",
       "      <td>0.000000e+00</td>\n",
       "      <td>0.000000e+00</td>\n",
       "      <td>0.000000e+00</td>\n",
       "      <td>0.000000e+00</td>\n",
       "      <td>0.000000e+00</td>\n",
       "      <td>0.000000e+00</td>\n",
       "      <td>0.000000</td>\n",
       "      <td>2015.000000</td>\n",
       "      <td>1.000000</td>\n",
       "      <td>1.000000</td>\n",
       "    </tr>\n",
       "    <tr>\n",
       "      <th>25%</th>\n",
       "      <td>1.100000</td>\n",
       "      <td>1.083858e+04</td>\n",
       "      <td>8.540700e+02</td>\n",
       "      <td>3.008780e+03</td>\n",
       "      <td>0.000000e+00</td>\n",
       "      <td>5.088640e+03</td>\n",
       "      <td>2.849420e+03</td>\n",
       "      <td>1.274700e+02</td>\n",
       "      <td>0.000000</td>\n",
       "      <td>2015.000000</td>\n",
       "      <td>3.000000</td>\n",
       "      <td>8.000000</td>\n",
       "    </tr>\n",
       "    <tr>\n",
       "      <th>50%</th>\n",
       "      <td>1.370000</td>\n",
       "      <td>1.073768e+05</td>\n",
       "      <td>8.645300e+03</td>\n",
       "      <td>2.906102e+04</td>\n",
       "      <td>1.849900e+02</td>\n",
       "      <td>3.974383e+04</td>\n",
       "      <td>2.636282e+04</td>\n",
       "      <td>2.647710e+03</td>\n",
       "      <td>0.000000</td>\n",
       "      <td>2016.000000</td>\n",
       "      <td>6.000000</td>\n",
       "      <td>16.000000</td>\n",
       "    </tr>\n",
       "    <tr>\n",
       "      <th>75%</th>\n",
       "      <td>1.660000</td>\n",
       "      <td>4.329623e+05</td>\n",
       "      <td>1.110202e+05</td>\n",
       "      <td>1.502069e+05</td>\n",
       "      <td>6.243420e+03</td>\n",
       "      <td>1.107834e+05</td>\n",
       "      <td>8.333767e+04</td>\n",
       "      <td>2.202925e+04</td>\n",
       "      <td>132.500000</td>\n",
       "      <td>2017.000000</td>\n",
       "      <td>9.000000</td>\n",
       "      <td>23.000000</td>\n",
       "    </tr>\n",
       "    <tr>\n",
       "      <th>max</th>\n",
       "      <td>3.250000</td>\n",
       "      <td>6.250565e+07</td>\n",
       "      <td>2.274362e+07</td>\n",
       "      <td>2.047057e+07</td>\n",
       "      <td>2.546439e+06</td>\n",
       "      <td>1.937313e+07</td>\n",
       "      <td>1.338459e+07</td>\n",
       "      <td>5.719097e+06</td>\n",
       "      <td>551693.650000</td>\n",
       "      <td>2018.000000</td>\n",
       "      <td>12.000000</td>\n",
       "      <td>31.000000</td>\n",
       "    </tr>\n",
       "  </tbody>\n",
       "</table>\n",
       "</div>"
      ],
      "text/plain": [
       "       AveragePrice  Total Volume          4046          4225          4770  \\\n",
       "count  18249.000000  1.824900e+04  1.824900e+04  1.824900e+04  1.824900e+04   \n",
       "mean       1.405978  8.506440e+05  2.930084e+05  2.951546e+05  2.283974e+04   \n",
       "std        0.402677  3.453545e+06  1.264989e+06  1.204120e+06  1.074641e+05   \n",
       "min        0.440000  8.456000e+01  0.000000e+00  0.000000e+00  0.000000e+00   \n",
       "25%        1.100000  1.083858e+04  8.540700e+02  3.008780e+03  0.000000e+00   \n",
       "50%        1.370000  1.073768e+05  8.645300e+03  2.906102e+04  1.849900e+02   \n",
       "75%        1.660000  4.329623e+05  1.110202e+05  1.502069e+05  6.243420e+03   \n",
       "max        3.250000  6.250565e+07  2.274362e+07  2.047057e+07  2.546439e+06   \n",
       "\n",
       "         Total Bags    Small Bags    Large Bags    XLarge Bags          year  \\\n",
       "count  1.824900e+04  1.824900e+04  1.824900e+04   18249.000000  18249.000000   \n",
       "mean   2.396392e+05  1.821947e+05  5.433809e+04    3106.426507   2016.147899   \n",
       "std    9.862424e+05  7.461785e+05  2.439660e+05   17692.894652      0.939938   \n",
       "min    0.000000e+00  0.000000e+00  0.000000e+00       0.000000   2015.000000   \n",
       "25%    5.088640e+03  2.849420e+03  1.274700e+02       0.000000   2015.000000   \n",
       "50%    3.974383e+04  2.636282e+04  2.647710e+03       0.000000   2016.000000   \n",
       "75%    1.107834e+05  8.333767e+04  2.202925e+04     132.500000   2017.000000   \n",
       "max    1.937313e+07  1.338459e+07  5.719097e+06  551693.650000   2018.000000   \n",
       "\n",
       "              Month           Day  \n",
       "count  18249.000000  18249.000000  \n",
       "mean       6.177215     15.662612  \n",
       "std        3.534130      8.776281  \n",
       "min        1.000000      1.000000  \n",
       "25%        3.000000      8.000000  \n",
       "50%        6.000000     16.000000  \n",
       "75%        9.000000     23.000000  \n",
       "max       12.000000     31.000000  "
      ]
     },
     "execution_count": 41,
     "metadata": {},
     "output_type": "execute_result"
    }
   ],
   "source": [
    "df.describe()"
   ]
  },
  {
   "cell_type": "markdown",
   "id": "ab0cc50d",
   "metadata": {},
   "source": [
    "Count of No. of rows in every column are same, it means that there are no missing values in the data set.\n",
    "Mean and value of median of most of the columns are same and standard deviation are close to each other.\n",
    "There are Differences b/w max and 75th percentile, it means outliers ae present in some columns,we will remove it later."
   ]
  },
  {
   "cell_type": "code",
   "execution_count": 42,
   "id": "24184b72",
   "metadata": {},
   "outputs": [
    {
     "data": {
      "text/plain": [
       "<AxesSubplot:xlabel='year', ylabel='AveragePrice'>"
      ]
     },
     "execution_count": 42,
     "metadata": {},
     "output_type": "execute_result"
    },
    {
     "data": {
      "image/png": "[encoded data removed]",
      "text/plain": [
       "<Figure size 432x288 with 1 Axes>"
      ]
     },
     "metadata": {
      "needs_background": "light"
     },
     "output_type": "display_data"
    }
   ],
   "source": [
    "sns.barplot(x='year',y='AveragePrice',data=df)"
   ]
  },
  {
   "cell_type": "markdown",
   "id": "91c7835c",
   "metadata": {},
   "source": [
    "Price of Avocado is maximum in year 2017 as compared to other years, and as we can see that difference in other years are very less."
   ]
  },
  {
   "cell_type": "code",
   "execution_count": 43,
   "id": "3e4aef12",
   "metadata": {},
   "outputs": [
    {
     "data": {
      "text/plain": [
       "<AxesSubplot:xlabel='Month', ylabel='AveragePrice'>"
      ]
     },
     "execution_count": 43,
     "metadata": {},
     "output_type": "execute_result"
    },
    {
     "data": {
      "image/png": "[encoded data removed]",
      "text/plain": [
       "<Figure size 432x288 with 1 Axes>"
      ]
     },
     "metadata": {
      "needs_background": "light"
     },
     "output_type": "display_data"
    }
   ],
   "source": [
    "sns.barplot(x='Month',y='AveragePrice',data=df)"
   ]
  },
  {
   "cell_type": "markdown",
   "id": "1e2e6d96",
   "metadata": {},
   "source": [
    "Sept. and Oct. are the months where maximum number of avg. price is there, but for whole year the price of Avocado is same. "
   ]
  },
  {
   "cell_type": "code",
   "execution_count": 44,
   "id": "e62c5109",
   "metadata": {},
   "outputs": [
    {
     "data": {
      "text/plain": [
       "<AxesSubplot:xlabel='Day', ylabel='AveragePrice'>"
      ]
     },
     "execution_count": 44,
     "metadata": {},
     "output_type": "execute_result"
    },
    {
     "data": {
      "image/png": "[encoded data removed]",
      "text/plain": [
       "<Figure size 432x288 with 1 Axes>"
      ]
     },
     "metadata": {
      "needs_background": "light"
     },
     "output_type": "display_data"
    }
   ],
   "source": [
    "sns.barplot(x='Day',y='AveragePrice',data=df)"
   ]
  },
  {
   "cell_type": "code",
   "execution_count": 46,
   "id": "80b6f77d",
   "metadata": {},
   "outputs": [],
   "source": [
    "import matplotlib.pyplot as plt"
   ]
  },
  {
   "cell_type": "code",
   "execution_count": 52,
   "id": "e3e2e3aa",
   "metadata": {},
   "outputs": [
    {
     "data": {
      "image/png": "[encoded data removed]",
      "text/plain": [
       "<Figure size 1080x576 with 1 Axes>"
      ]
     },
     "metadata": {
      "needs_background": "light"
     },
     "output_type": "display_data"
    }
   ],
   "source": [
    "plt.figure(figsize=(15,8))\n",
    "sns.lineplot(x='Month',y='AveragePrice',hue='type',data=df)\n",
    "plt.show()"
   ]
  },
  {
   "cell_type": "markdown",
   "id": "99f75673",
   "metadata": {},
   "source": [
    "There is a hike b/w month 8 and 10 of both type of avocados i.e conventional and organic.\n",
    "Coventional type of Avocado price is less as compared to the organic one."
   ]
  },
  {
   "cell_type": "markdown",
   "id": "748ae608",
   "metadata": {},
   "source": [
    "Now we will use Label Encoder to covert columns type and region into integers."
   ]
  },
  {
   "cell_type": "code",
   "execution_count": 53,
   "id": "d6b3ec95",
   "metadata": {},
   "outputs": [
    {
     "data": {
      "text/html": [
       "<div>\n",
       "<style scoped>\n",
       "    .dataframe tbody tr th:only-of-type {\n",
       "        vertical-align: middle;\n",
       "    }\n",
       "\n",
       "    .dataframe tbody tr th {\n",
       "        vertical-align: top;\n",
       "    }\n",
       "\n",
       "    .dataframe thead th {\n",
       "        text-align: right;\n",
       "    }\n",
       "</style>\n",
       "<table border=\"1\" class=\"dataframe\">\n",
       "  <thead>\n",
       "    <tr style=\"text-align: right;\">\n",
       "      <th></th>\n",
       "      <th>AveragePrice</th>\n",
       "      <th>Total Volume</th>\n",
       "      <th>4046</th>\n",
       "      <th>4225</th>\n",
       "      <th>4770</th>\n",
       "      <th>Total Bags</th>\n",
       "      <th>Small Bags</th>\n",
       "      <th>Large Bags</th>\n",
       "      <th>XLarge Bags</th>\n",
       "      <th>type</th>\n",
       "      <th>year</th>\n",
       "      <th>Month</th>\n",
       "      <th>Day</th>\n",
       "      <th>region</th>\n",
       "    </tr>\n",
       "  </thead>\n",
       "  <tbody>\n",
       "    <tr>\n",
       "      <th>0</th>\n",
       "      <td>1.33</td>\n",
       "      <td>64236.62</td>\n",
       "      <td>1036.74</td>\n",
       "      <td>54454.85</td>\n",
       "      <td>48.16</td>\n",
       "      <td>8696.87</td>\n",
       "      <td>8603.62</td>\n",
       "      <td>93.25</td>\n",
       "      <td>0.0</td>\n",
       "      <td>0</td>\n",
       "      <td>2015</td>\n",
       "      <td>12</td>\n",
       "      <td>27</td>\n",
       "      <td>0</td>\n",
       "    </tr>\n",
       "    <tr>\n",
       "      <th>1</th>\n",
       "      <td>1.35</td>\n",
       "      <td>54876.98</td>\n",
       "      <td>674.28</td>\n",
       "      <td>44638.81</td>\n",
       "      <td>58.33</td>\n",
       "      <td>9505.56</td>\n",
       "      <td>9408.07</td>\n",
       "      <td>97.49</td>\n",
       "      <td>0.0</td>\n",
       "      <td>0</td>\n",
       "      <td>2015</td>\n",
       "      <td>12</td>\n",
       "      <td>20</td>\n",
       "      <td>0</td>\n",
       "    </tr>\n",
       "    <tr>\n",
       "      <th>2</th>\n",
       "      <td>0.93</td>\n",
       "      <td>118220.22</td>\n",
       "      <td>794.70</td>\n",
       "      <td>109149.67</td>\n",
       "      <td>130.50</td>\n",
       "      <td>8145.35</td>\n",
       "      <td>8042.21</td>\n",
       "      <td>103.14</td>\n",
       "      <td>0.0</td>\n",
       "      <td>0</td>\n",
       "      <td>2015</td>\n",
       "      <td>12</td>\n",
       "      <td>13</td>\n",
       "      <td>0</td>\n",
       "    </tr>\n",
       "    <tr>\n",
       "      <th>3</th>\n",
       "      <td>1.08</td>\n",
       "      <td>78992.15</td>\n",
       "      <td>1132.00</td>\n",
       "      <td>71976.41</td>\n",
       "      <td>72.58</td>\n",
       "      <td>5811.16</td>\n",
       "      <td>5677.40</td>\n",
       "      <td>133.76</td>\n",
       "      <td>0.0</td>\n",
       "      <td>0</td>\n",
       "      <td>2015</td>\n",
       "      <td>12</td>\n",
       "      <td>6</td>\n",
       "      <td>0</td>\n",
       "    </tr>\n",
       "    <tr>\n",
       "      <th>4</th>\n",
       "      <td>1.28</td>\n",
       "      <td>51039.60</td>\n",
       "      <td>941.48</td>\n",
       "      <td>43838.39</td>\n",
       "      <td>75.78</td>\n",
       "      <td>6183.95</td>\n",
       "      <td>5986.26</td>\n",
       "      <td>197.69</td>\n",
       "      <td>0.0</td>\n",
       "      <td>0</td>\n",
       "      <td>2015</td>\n",
       "      <td>11</td>\n",
       "      <td>29</td>\n",
       "      <td>0</td>\n",
       "    </tr>\n",
       "    <tr>\n",
       "      <th>...</th>\n",
       "      <td>...</td>\n",
       "      <td>...</td>\n",
       "      <td>...</td>\n",
       "      <td>...</td>\n",
       "      <td>...</td>\n",
       "      <td>...</td>\n",
       "      <td>...</td>\n",
       "      <td>...</td>\n",
       "      <td>...</td>\n",
       "      <td>...</td>\n",
       "      <td>...</td>\n",
       "      <td>...</td>\n",
       "      <td>...</td>\n",
       "      <td>...</td>\n",
       "    </tr>\n",
       "    <tr>\n",
       "      <th>18244</th>\n",
       "      <td>1.63</td>\n",
       "      <td>17074.83</td>\n",
       "      <td>2046.96</td>\n",
       "      <td>1529.20</td>\n",
       "      <td>0.00</td>\n",
       "      <td>13498.67</td>\n",
       "      <td>13066.82</td>\n",
       "      <td>431.85</td>\n",
       "      <td>0.0</td>\n",
       "      <td>1</td>\n",
       "      <td>2018</td>\n",
       "      <td>2</td>\n",
       "      <td>4</td>\n",
       "      <td>53</td>\n",
       "    </tr>\n",
       "    <tr>\n",
       "      <th>18245</th>\n",
       "      <td>1.71</td>\n",
       "      <td>13888.04</td>\n",
       "      <td>1191.70</td>\n",
       "      <td>3431.50</td>\n",
       "      <td>0.00</td>\n",
       "      <td>9264.84</td>\n",
       "      <td>8940.04</td>\n",
       "      <td>324.80</td>\n",
       "      <td>0.0</td>\n",
       "      <td>1</td>\n",
       "      <td>2018</td>\n",
       "      <td>1</td>\n",
       "      <td>28</td>\n",
       "      <td>53</td>\n",
       "    </tr>\n",
       "    <tr>\n",
       "      <th>18246</th>\n",
       "      <td>1.87</td>\n",
       "      <td>13766.76</td>\n",
       "      <td>1191.92</td>\n",
       "      <td>2452.79</td>\n",
       "      <td>727.94</td>\n",
       "      <td>9394.11</td>\n",
       "      <td>9351.80</td>\n",
       "      <td>42.31</td>\n",
       "      <td>0.0</td>\n",
       "      <td>1</td>\n",
       "      <td>2018</td>\n",
       "      <td>1</td>\n",
       "      <td>21</td>\n",
       "      <td>53</td>\n",
       "    </tr>\n",
       "    <tr>\n",
       "      <th>18247</th>\n",
       "      <td>1.93</td>\n",
       "      <td>16205.22</td>\n",
       "      <td>1527.63</td>\n",
       "      <td>2981.04</td>\n",
       "      <td>727.01</td>\n",
       "      <td>10969.54</td>\n",
       "      <td>10919.54</td>\n",
       "      <td>50.00</td>\n",
       "      <td>0.0</td>\n",
       "      <td>1</td>\n",
       "      <td>2018</td>\n",
       "      <td>1</td>\n",
       "      <td>14</td>\n",
       "      <td>53</td>\n",
       "    </tr>\n",
       "    <tr>\n",
       "      <th>18248</th>\n",
       "      <td>1.62</td>\n",
       "      <td>17489.58</td>\n",
       "      <td>2894.77</td>\n",
       "      <td>2356.13</td>\n",
       "      <td>224.53</td>\n",
       "      <td>12014.15</td>\n",
       "      <td>11988.14</td>\n",
       "      <td>26.01</td>\n",
       "      <td>0.0</td>\n",
       "      <td>1</td>\n",
       "      <td>2018</td>\n",
       "      <td>1</td>\n",
       "      <td>7</td>\n",
       "      <td>53</td>\n",
       "    </tr>\n",
       "  </tbody>\n",
       "</table>\n",
       "<p>18249 rows × 14 columns</p>\n",
       "</div>"
      ],
      "text/plain": [
       "       AveragePrice  Total Volume     4046       4225    4770  Total Bags  \\\n",
       "0              1.33      64236.62  1036.74   54454.85   48.16     8696.87   \n",
       "1              1.35      54876.98   674.28   44638.81   58.33     9505.56   \n",
       "2              0.93     118220.22   794.70  109149.67  130.50     8145.35   \n",
       "3              1.08      78992.15  1132.00   71976.41   72.58     5811.16   \n",
       "4              1.28      51039.60   941.48   43838.39   75.78     6183.95   \n",
       "...             ...           ...      ...        ...     ...         ...   \n",
       "18244          1.63      17074.83  2046.96    1529.20    0.00    13498.67   \n",
       "18245          1.71      13888.04  1191.70    3431.50    0.00     9264.84   \n",
       "18246          1.87      13766.76  1191.92    2452.79  727.94     9394.11   \n",
       "18247          1.93      16205.22  1527.63    2981.04  727.01    10969.54   \n",
       "18248          1.62      17489.58  2894.77    2356.13  224.53    12014.15   \n",
       "\n",
       "       Small Bags  Large Bags  XLarge Bags  type  year  Month  Day  region  \n",
       "0         8603.62       93.25          0.0     0  2015     12   27       0  \n",
       "1         9408.07       97.49          0.0     0  2015     12   20       0  \n",
       "2         8042.21      103.14          0.0     0  2015     12   13       0  \n",
       "3         5677.40      133.76          0.0     0  2015     12    6       0  \n",
       "4         5986.26      197.69          0.0     0  2015     11   29       0  \n",
       "...           ...         ...          ...   ...   ...    ...  ...     ...  \n",
       "18244    13066.82      431.85          0.0     1  2018      2    4      53  \n",
       "18245     8940.04      324.80          0.0     1  2018      1   28      53  \n",
       "18246     9351.80       42.31          0.0     1  2018      1   21      53  \n",
       "18247    10919.54       50.00          0.0     1  2018      1   14      53  \n",
       "18248    11988.14       26.01          0.0     1  2018      1    7      53  \n",
       "\n",
       "[18249 rows x 14 columns]"
      ]
     },
     "execution_count": 53,
     "metadata": {},
     "output_type": "execute_result"
    }
   ],
   "source": [
    "from sklearn.preprocessing import LabelEncoder\n",
    "le=LabelEncoder()\n",
    "\n",
    "list1=['type','region']\n",
    "for val in list1:\n",
    "    df[val]=le.fit_transform(df[val].astype(str))\n",
    "\n",
    "df"
   ]
  },
  {
   "cell_type": "code",
   "execution_count": 57,
   "id": "b1bb12be",
   "metadata": {},
   "outputs": [
    {
     "data": {
      "text/plain": [
       "AveragePrice    float64\n",
       "Total Volume    float64\n",
       "4046            float64\n",
       "4225            float64\n",
       "4770            float64\n",
       "Total Bags      float64\n",
       "Small Bags      float64\n",
       "Large Bags      float64\n",
       "XLarge Bags     float64\n",
       "type              int64\n",
       "year              int64\n",
       "Month             int64\n",
       "Day               int64\n",
       "region            int64\n",
       "dtype: object"
      ]
     },
     "execution_count": 57,
     "metadata": {},
     "output_type": "execute_result"
    }
   ],
   "source": [
    "df.dtypes"
   ]
  },
  {
   "cell_type": "code",
   "execution_count": 58,
   "id": "8c96d468",
   "metadata": {},
   "outputs": [
    {
     "data": {
      "text/html": [
       "<div>\n",
       "<style scoped>\n",
       "    .dataframe tbody tr th:only-of-type {\n",
       "        vertical-align: middle;\n",
       "    }\n",
       "\n",
       "    .dataframe tbody tr th {\n",
       "        vertical-align: top;\n",
       "    }\n",
       "\n",
       "    .dataframe thead th {\n",
       "        text-align: right;\n",
       "    }\n",
       "</style>\n",
       "<table border=\"1\" class=\"dataframe\">\n",
       "  <thead>\n",
       "    <tr style=\"text-align: right;\">\n",
       "      <th></th>\n",
       "      <th>AveragePrice</th>\n",
       "      <th>Total Volume</th>\n",
       "      <th>4046</th>\n",
       "      <th>4225</th>\n",
       "      <th>4770</th>\n",
       "      <th>Total Bags</th>\n",
       "      <th>Small Bags</th>\n",
       "      <th>Large Bags</th>\n",
       "      <th>XLarge Bags</th>\n",
       "      <th>type</th>\n",
       "      <th>year</th>\n",
       "      <th>Month</th>\n",
       "      <th>Day</th>\n",
       "      <th>region</th>\n",
       "    </tr>\n",
       "  </thead>\n",
       "  <tbody>\n",
       "    <tr>\n",
       "      <th>AveragePrice</th>\n",
       "      <td>1.000000</td>\n",
       "      <td>-0.192752</td>\n",
       "      <td>-0.208317</td>\n",
       "      <td>-0.172928</td>\n",
       "      <td>-0.179446</td>\n",
       "      <td>-0.177088</td>\n",
       "      <td>-0.174730</td>\n",
       "      <td>-0.172940</td>\n",
       "      <td>-0.117592</td>\n",
       "      <td>0.615845</td>\n",
       "      <td>0.093197</td>\n",
       "      <td>0.162409</td>\n",
       "      <td>0.027386</td>\n",
       "      <td>-0.011716</td>\n",
       "    </tr>\n",
       "    <tr>\n",
       "      <th>Total Volume</th>\n",
       "      <td>-0.192752</td>\n",
       "      <td>1.000000</td>\n",
       "      <td>0.977863</td>\n",
       "      <td>0.974181</td>\n",
       "      <td>0.872202</td>\n",
       "      <td>0.963047</td>\n",
       "      <td>0.967238</td>\n",
       "      <td>0.880640</td>\n",
       "      <td>0.747157</td>\n",
       "      <td>-0.232434</td>\n",
       "      <td>0.017193</td>\n",
       "      <td>-0.024689</td>\n",
       "      <td>-0.009747</td>\n",
       "      <td>0.174176</td>\n",
       "    </tr>\n",
       "    <tr>\n",
       "      <th>4046</th>\n",
       "      <td>-0.208317</td>\n",
       "      <td>0.977863</td>\n",
       "      <td>1.000000</td>\n",
       "      <td>0.926110</td>\n",
       "      <td>0.833389</td>\n",
       "      <td>0.920057</td>\n",
       "      <td>0.925280</td>\n",
       "      <td>0.838645</td>\n",
       "      <td>0.699377</td>\n",
       "      <td>-0.225819</td>\n",
       "      <td>0.003353</td>\n",
       "      <td>-0.025803</td>\n",
       "      <td>-0.010159</td>\n",
       "      <td>0.192073</td>\n",
       "    </tr>\n",
       "    <tr>\n",
       "      <th>4225</th>\n",
       "      <td>-0.172928</td>\n",
       "      <td>0.974181</td>\n",
       "      <td>0.926110</td>\n",
       "      <td>1.000000</td>\n",
       "      <td>0.887855</td>\n",
       "      <td>0.905787</td>\n",
       "      <td>0.916031</td>\n",
       "      <td>0.810015</td>\n",
       "      <td>0.688809</td>\n",
       "      <td>-0.232289</td>\n",
       "      <td>-0.009559</td>\n",
       "      <td>-0.022108</td>\n",
       "      <td>-0.012393</td>\n",
       "      <td>0.145726</td>\n",
       "    </tr>\n",
       "    <tr>\n",
       "      <th>4770</th>\n",
       "      <td>-0.179446</td>\n",
       "      <td>0.872202</td>\n",
       "      <td>0.833389</td>\n",
       "      <td>0.887855</td>\n",
       "      <td>1.000000</td>\n",
       "      <td>0.792314</td>\n",
       "      <td>0.802733</td>\n",
       "      <td>0.698471</td>\n",
       "      <td>0.679861</td>\n",
       "      <td>-0.210027</td>\n",
       "      <td>-0.036531</td>\n",
       "      <td>-0.033424</td>\n",
       "      <td>-0.009009</td>\n",
       "      <td>0.095252</td>\n",
       "    </tr>\n",
       "    <tr>\n",
       "      <th>Total Bags</th>\n",
       "      <td>-0.177088</td>\n",
       "      <td>0.963047</td>\n",
       "      <td>0.920057</td>\n",
       "      <td>0.905787</td>\n",
       "      <td>0.792314</td>\n",
       "      <td>1.000000</td>\n",
       "      <td>0.994335</td>\n",
       "      <td>0.943009</td>\n",
       "      <td>0.804233</td>\n",
       "      <td>-0.217788</td>\n",
       "      <td>0.071552</td>\n",
       "      <td>-0.022724</td>\n",
       "      <td>-0.004988</td>\n",
       "      <td>0.175256</td>\n",
       "    </tr>\n",
       "    <tr>\n",
       "      <th>Small Bags</th>\n",
       "      <td>-0.174730</td>\n",
       "      <td>0.967238</td>\n",
       "      <td>0.925280</td>\n",
       "      <td>0.916031</td>\n",
       "      <td>0.802733</td>\n",
       "      <td>0.994335</td>\n",
       "      <td>1.000000</td>\n",
       "      <td>0.902589</td>\n",
       "      <td>0.806845</td>\n",
       "      <td>-0.220535</td>\n",
       "      <td>0.063915</td>\n",
       "      <td>-0.023126</td>\n",
       "      <td>-0.003870</td>\n",
       "      <td>0.164702</td>\n",
       "    </tr>\n",
       "    <tr>\n",
       "      <th>Large Bags</th>\n",
       "      <td>-0.172940</td>\n",
       "      <td>0.880640</td>\n",
       "      <td>0.838645</td>\n",
       "      <td>0.810015</td>\n",
       "      <td>0.698471</td>\n",
       "      <td>0.943009</td>\n",
       "      <td>0.902589</td>\n",
       "      <td>1.000000</td>\n",
       "      <td>0.710858</td>\n",
       "      <td>-0.193177</td>\n",
       "      <td>0.087891</td>\n",
       "      <td>-0.020187</td>\n",
       "      <td>-0.008352</td>\n",
       "      <td>0.198768</td>\n",
       "    </tr>\n",
       "    <tr>\n",
       "      <th>XLarge Bags</th>\n",
       "      <td>-0.117592</td>\n",
       "      <td>0.747157</td>\n",
       "      <td>0.699377</td>\n",
       "      <td>0.688809</td>\n",
       "      <td>0.679861</td>\n",
       "      <td>0.804233</td>\n",
       "      <td>0.806845</td>\n",
       "      <td>0.710858</td>\n",
       "      <td>1.000000</td>\n",
       "      <td>-0.175483</td>\n",
       "      <td>0.081033</td>\n",
       "      <td>-0.012969</td>\n",
       "      <td>0.000319</td>\n",
       "      <td>0.082281</td>\n",
       "    </tr>\n",
       "    <tr>\n",
       "      <th>type</th>\n",
       "      <td>0.615845</td>\n",
       "      <td>-0.232434</td>\n",
       "      <td>-0.225819</td>\n",
       "      <td>-0.232289</td>\n",
       "      <td>-0.210027</td>\n",
       "      <td>-0.217788</td>\n",
       "      <td>-0.220535</td>\n",
       "      <td>-0.193177</td>\n",
       "      <td>-0.175483</td>\n",
       "      <td>1.000000</td>\n",
       "      <td>-0.000032</td>\n",
       "      <td>-0.000085</td>\n",
       "      <td>-0.000013</td>\n",
       "      <td>-0.000280</td>\n",
       "    </tr>\n",
       "    <tr>\n",
       "      <th>year</th>\n",
       "      <td>0.093197</td>\n",
       "      <td>0.017193</td>\n",
       "      <td>0.003353</td>\n",
       "      <td>-0.009559</td>\n",
       "      <td>-0.036531</td>\n",
       "      <td>0.071552</td>\n",
       "      <td>0.063915</td>\n",
       "      <td>0.087891</td>\n",
       "      <td>0.081033</td>\n",
       "      <td>-0.000032</td>\n",
       "      <td>1.000000</td>\n",
       "      <td>-0.177050</td>\n",
       "      <td>0.004475</td>\n",
       "      <td>-0.000055</td>\n",
       "    </tr>\n",
       "    <tr>\n",
       "      <th>Month</th>\n",
       "      <td>0.162409</td>\n",
       "      <td>-0.024689</td>\n",
       "      <td>-0.025803</td>\n",
       "      <td>-0.022108</td>\n",
       "      <td>-0.033424</td>\n",
       "      <td>-0.022724</td>\n",
       "      <td>-0.023126</td>\n",
       "      <td>-0.020187</td>\n",
       "      <td>-0.012969</td>\n",
       "      <td>-0.000085</td>\n",
       "      <td>-0.177050</td>\n",
       "      <td>1.000000</td>\n",
       "      <td>0.010621</td>\n",
       "      <td>-0.000144</td>\n",
       "    </tr>\n",
       "    <tr>\n",
       "      <th>Day</th>\n",
       "      <td>0.027386</td>\n",
       "      <td>-0.009747</td>\n",
       "      <td>-0.010159</td>\n",
       "      <td>-0.012393</td>\n",
       "      <td>-0.009009</td>\n",
       "      <td>-0.004988</td>\n",
       "      <td>-0.003870</td>\n",
       "      <td>-0.008352</td>\n",
       "      <td>0.000319</td>\n",
       "      <td>-0.000013</td>\n",
       "      <td>0.004475</td>\n",
       "      <td>0.010621</td>\n",
       "      <td>1.000000</td>\n",
       "      <td>-0.000021</td>\n",
       "    </tr>\n",
       "    <tr>\n",
       "      <th>region</th>\n",
       "      <td>-0.011716</td>\n",
       "      <td>0.174176</td>\n",
       "      <td>0.192073</td>\n",
       "      <td>0.145726</td>\n",
       "      <td>0.095252</td>\n",
       "      <td>0.175256</td>\n",
       "      <td>0.164702</td>\n",
       "      <td>0.198768</td>\n",
       "      <td>0.082281</td>\n",
       "      <td>-0.000280</td>\n",
       "      <td>-0.000055</td>\n",
       "      <td>-0.000144</td>\n",
       "      <td>-0.000021</td>\n",
       "      <td>1.000000</td>\n",
       "    </tr>\n",
       "  </tbody>\n",
       "</table>\n",
       "</div>"
      ],
      "text/plain": [
       "              AveragePrice  Total Volume      4046      4225      4770  \\\n",
       "AveragePrice      1.000000     -0.192752 -0.208317 -0.172928 -0.179446   \n",
       "Total Volume     -0.192752      1.000000  0.977863  0.974181  0.872202   \n",
       "4046             -0.208317      0.977863  1.000000  0.926110  0.833389   \n",
       "4225             -0.172928      0.974181  0.926110  1.000000  0.887855   \n",
       "4770             -0.179446      0.872202  0.833389  0.887855  1.000000   \n",
       "Total Bags       -0.177088      0.963047  0.920057  0.905787  0.792314   \n",
       "Small Bags       -0.174730      0.967238  0.925280  0.916031  0.802733   \n",
       "Large Bags       -0.172940      0.880640  0.838645  0.810015  0.698471   \n",
       "XLarge Bags      -0.117592      0.747157  0.699377  0.688809  0.679861   \n",
       "type              0.615845     -0.232434 -0.225819 -0.232289 -0.210027   \n",
       "year              0.093197      0.017193  0.003353 -0.009559 -0.036531   \n",
       "Month             0.162409     -0.024689 -0.025803 -0.022108 -0.033424   \n",
       "Day               0.027386     -0.009747 -0.010159 -0.012393 -0.009009   \n",
       "region           -0.011716      0.174176  0.192073  0.145726  0.095252   \n",
       "\n",
       "              Total Bags  Small Bags  Large Bags  XLarge Bags      type  \\\n",
       "AveragePrice   -0.177088   -0.174730   -0.172940    -0.117592  0.615845   \n",
       "Total Volume    0.963047    0.967238    0.880640     0.747157 -0.232434   \n",
       "4046            0.920057    0.925280    0.838645     0.699377 -0.225819   \n",
       "4225            0.905787    0.916031    0.810015     0.688809 -0.232289   \n",
       "4770            0.792314    0.802733    0.698471     0.679861 -0.210027   \n",
       "Total Bags      1.000000    0.994335    0.943009     0.804233 -0.217788   \n",
       "Small Bags      0.994335    1.000000    0.902589     0.806845 -0.220535   \n",
       "Large Bags      0.943009    0.902589    1.000000     0.710858 -0.193177   \n",
       "XLarge Bags     0.804233    0.806845    0.710858     1.000000 -0.175483   \n",
       "type           -0.217788   -0.220535   -0.193177    -0.175483  1.000000   \n",
       "year            0.071552    0.063915    0.087891     0.081033 -0.000032   \n",
       "Month          -0.022724   -0.023126   -0.020187    -0.012969 -0.000085   \n",
       "Day            -0.004988   -0.003870   -0.008352     0.000319 -0.000013   \n",
       "region          0.175256    0.164702    0.198768     0.082281 -0.000280   \n",
       "\n",
       "                  year     Month       Day    region  \n",
       "AveragePrice  0.093197  0.162409  0.027386 -0.011716  \n",
       "Total Volume  0.017193 -0.024689 -0.009747  0.174176  \n",
       "4046          0.003353 -0.025803 -0.010159  0.192073  \n",
       "4225         -0.009559 -0.022108 -0.012393  0.145726  \n",
       "4770         -0.036531 -0.033424 -0.009009  0.095252  \n",
       "Total Bags    0.071552 -0.022724 -0.004988  0.175256  \n",
       "Small Bags    0.063915 -0.023126 -0.003870  0.164702  \n",
       "Large Bags    0.087891 -0.020187 -0.008352  0.198768  \n",
       "XLarge Bags   0.081033 -0.012969  0.000319  0.082281  \n",
       "type         -0.000032 -0.000085 -0.000013 -0.000280  \n",
       "year          1.000000 -0.177050  0.004475 -0.000055  \n",
       "Month        -0.177050  1.000000  0.010621 -0.000144  \n",
       "Day           0.004475  0.010621  1.000000 -0.000021  \n",
       "region       -0.000055 -0.000144 -0.000021  1.000000  "
      ]
     },
     "execution_count": 58,
     "metadata": {},
     "output_type": "execute_result"
    }
   ],
   "source": [
    "df.corr()"
   ]
  },
  {
   "cell_type": "code",
   "execution_count": 61,
   "id": "ba328f53",
   "metadata": {},
   "outputs": [
    {
     "data": {
      "text/plain": [
       "<AxesSubplot:>"
      ]
     },
     "execution_count": 61,
     "metadata": {},
     "output_type": "execute_result"
    },
    {
     "data": {
      "image/png": "[encoded data removed]",
      "text/plain": [
       "<Figure size 720x720 with 2 Axes>"
      ]
     },
     "metadata": {
      "needs_background": "light"
     },
     "output_type": "display_data"
    }
   ],
   "source": [
    "plt.figure(figsize=(10,10))\n",
    "sns.heatmap(df.corr(),cmap='coolwarm',annot=True,annot_kws={'size': 10})"
   ]
  },
  {
   "cell_type": "markdown",
   "id": "6c1dc4a5",
   "metadata": {},
   "source": [
    "Now we, will see the outliers using box plot and will remove it using Zscore."
   ]
  },
  {
   "cell_type": "code",
   "execution_count": 66,
   "id": "ce23dc09",
   "metadata": {},
   "outputs": [
    {
     "data": {
      "text/plain": [
       "AveragePrice       AxesSubplot(0.125,0.536818;0.0945122x0.343182)\n",
       "Total Volume    AxesSubplot(0.238415,0.536818;0.0945122x0.343182)\n",
       "4046            AxesSubplot(0.351829,0.536818;0.0945122x0.343182)\n",
       "4225            AxesSubplot(0.465244,0.536818;0.0945122x0.343182)\n",
       "4770            AxesSubplot(0.578659,0.536818;0.0945122x0.343182)\n",
       "Total Bags      AxesSubplot(0.692073,0.536818;0.0945122x0.343182)\n",
       "Small Bags      AxesSubplot(0.805488,0.536818;0.0945122x0.343182)\n",
       "Large Bags            AxesSubplot(0.125,0.125;0.0945122x0.343182)\n",
       "XLarge Bags        AxesSubplot(0.238415,0.125;0.0945122x0.343182)\n",
       "type               AxesSubplot(0.351829,0.125;0.0945122x0.343182)\n",
       "year               AxesSubplot(0.465244,0.125;0.0945122x0.343182)\n",
       "Month              AxesSubplot(0.578659,0.125;0.0945122x0.343182)\n",
       "Day                AxesSubplot(0.692073,0.125;0.0945122x0.343182)\n",
       "region             AxesSubplot(0.805488,0.125;0.0945122x0.343182)\n",
       "dtype: object"
      ]
     },
     "execution_count": 66,
     "metadata": {},
     "output_type": "execute_result"
    },
    {
     "data": {
      "image/png": "[encoded data removed]",
      "text/plain": [
       "<Figure size 1080x1080 with 14 Axes>"
      ]
     },
     "metadata": {
      "needs_background": "light"
     },
     "output_type": "display_data"
    }
   ],
   "source": [
    "df.plot(kind='box',subplots=True,layout=(2,7),figsize=(15,15))"
   ]
  },
  {
   "cell_type": "markdown",
   "id": "ecb1b6ca",
   "metadata": {},
   "source": [
    "# Removing Outliers using Zscore"
   ]
  },
  {
   "cell_type": "code",
   "execution_count": 67,
   "id": "d802b813",
   "metadata": {},
   "outputs": [
    {
     "data": {
      "text/plain": [
       "array([[0.18868864, 0.22771641, 0.23081597, ..., 1.64763162, 1.29185687,\n",
       "        1.7002522 ],\n",
       "       [0.13901962, 0.23042664, 0.23110251, ..., 1.64763162, 0.49423066,\n",
       "        1.7002522 ],\n",
       "       [1.18206895, 0.21208462, 0.23100731, ..., 1.64763162, 0.30339555,\n",
       "        1.7002522 ],\n",
       "       ...,\n",
       "       [1.15237477, 0.24233073, 0.2306933 , ..., 1.46495942, 0.60817726,\n",
       "        1.70081131],\n",
       "       [1.30138182, 0.24162464, 0.2304279 , ..., 1.46495942, 0.18944895,\n",
       "        1.70081131],\n",
       "       [0.53151208, 0.24125273, 0.22934712, ..., 1.46495942, 0.98707516,\n",
       "        1.70081131]])"
      ]
     },
     "execution_count": 67,
     "metadata": {},
     "output_type": "execute_result"
    }
   ],
   "source": [
    "from scipy.stats import zscore\n",
    "import numpy as np\n",
    "z=np.abs(zscore(df))\n",
    "z"
   ]
  },
  {
   "cell_type": "code",
   "execution_count": 68,
   "id": "d9b26b0e",
   "metadata": {},
   "outputs": [
    {
     "name": "stdout",
     "output_type": "stream",
     "text": [
      "(array([  346,   359,   780, ..., 17304, 17402, 17428]), array([2, 2, 8, ..., 0, 0, 0]))\n"
     ]
    }
   ],
   "source": [
    "threshold=3\n",
    "print(np.where(z>3))"
   ]
  },
  {
   "cell_type": "code",
   "execution_count": 69,
   "id": "7de9a57e",
   "metadata": {},
   "outputs": [],
   "source": [
    "df_new=df[(z<3).all(axis=1)]"
   ]
  },
  {
   "cell_type": "code",
   "execution_count": 70,
   "id": "4ba802fd",
   "metadata": {},
   "outputs": [
    {
     "data": {
      "text/html": [
       "<div>\n",
       "<style scoped>\n",
       "    .dataframe tbody tr th:only-of-type {\n",
       "        vertical-align: middle;\n",
       "    }\n",
       "\n",
       "    .dataframe tbody tr th {\n",
       "        vertical-align: top;\n",
       "    }\n",
       "\n",
       "    .dataframe thead th {\n",
       "        text-align: right;\n",
       "    }\n",
       "</style>\n",
       "<table border=\"1\" class=\"dataframe\">\n",
       "  <thead>\n",
       "    <tr style=\"text-align: right;\">\n",
       "      <th></th>\n",
       "      <th>AveragePrice</th>\n",
       "      <th>Total Volume</th>\n",
       "      <th>4046</th>\n",
       "      <th>4225</th>\n",
       "      <th>4770</th>\n",
       "      <th>Total Bags</th>\n",
       "      <th>Small Bags</th>\n",
       "      <th>Large Bags</th>\n",
       "      <th>XLarge Bags</th>\n",
       "      <th>type</th>\n",
       "      <th>year</th>\n",
       "      <th>Month</th>\n",
       "      <th>Day</th>\n",
       "      <th>region</th>\n",
       "    </tr>\n",
       "  </thead>\n",
       "  <tbody>\n",
       "    <tr>\n",
       "      <th>0</th>\n",
       "      <td>1.33</td>\n",
       "      <td>64236.62</td>\n",
       "      <td>1036.74</td>\n",
       "      <td>54454.85</td>\n",
       "      <td>48.16</td>\n",
       "      <td>8696.87</td>\n",
       "      <td>8603.62</td>\n",
       "      <td>93.25</td>\n",
       "      <td>0.0</td>\n",
       "      <td>0</td>\n",
       "      <td>2015</td>\n",
       "      <td>12</td>\n",
       "      <td>27</td>\n",
       "      <td>0</td>\n",
       "    </tr>\n",
       "    <tr>\n",
       "      <th>1</th>\n",
       "      <td>1.35</td>\n",
       "      <td>54876.98</td>\n",
       "      <td>674.28</td>\n",
       "      <td>44638.81</td>\n",
       "      <td>58.33</td>\n",
       "      <td>9505.56</td>\n",
       "      <td>9408.07</td>\n",
       "      <td>97.49</td>\n",
       "      <td>0.0</td>\n",
       "      <td>0</td>\n",
       "      <td>2015</td>\n",
       "      <td>12</td>\n",
       "      <td>20</td>\n",
       "      <td>0</td>\n",
       "    </tr>\n",
       "    <tr>\n",
       "      <th>2</th>\n",
       "      <td>0.93</td>\n",
       "      <td>118220.22</td>\n",
       "      <td>794.70</td>\n",
       "      <td>109149.67</td>\n",
       "      <td>130.50</td>\n",
       "      <td>8145.35</td>\n",
       "      <td>8042.21</td>\n",
       "      <td>103.14</td>\n",
       "      <td>0.0</td>\n",
       "      <td>0</td>\n",
       "      <td>2015</td>\n",
       "      <td>12</td>\n",
       "      <td>13</td>\n",
       "      <td>0</td>\n",
       "    </tr>\n",
       "    <tr>\n",
       "      <th>3</th>\n",
       "      <td>1.08</td>\n",
       "      <td>78992.15</td>\n",
       "      <td>1132.00</td>\n",
       "      <td>71976.41</td>\n",
       "      <td>72.58</td>\n",
       "      <td>5811.16</td>\n",
       "      <td>5677.40</td>\n",
       "      <td>133.76</td>\n",
       "      <td>0.0</td>\n",
       "      <td>0</td>\n",
       "      <td>2015</td>\n",
       "      <td>12</td>\n",
       "      <td>6</td>\n",
       "      <td>0</td>\n",
       "    </tr>\n",
       "    <tr>\n",
       "      <th>4</th>\n",
       "      <td>1.28</td>\n",
       "      <td>51039.60</td>\n",
       "      <td>941.48</td>\n",
       "      <td>43838.39</td>\n",
       "      <td>75.78</td>\n",
       "      <td>6183.95</td>\n",
       "      <td>5986.26</td>\n",
       "      <td>197.69</td>\n",
       "      <td>0.0</td>\n",
       "      <td>0</td>\n",
       "      <td>2015</td>\n",
       "      <td>11</td>\n",
       "      <td>29</td>\n",
       "      <td>0</td>\n",
       "    </tr>\n",
       "  </tbody>\n",
       "</table>\n",
       "</div>"
      ],
      "text/plain": [
       "   AveragePrice  Total Volume     4046       4225    4770  Total Bags  \\\n",
       "0          1.33      64236.62  1036.74   54454.85   48.16     8696.87   \n",
       "1          1.35      54876.98   674.28   44638.81   58.33     9505.56   \n",
       "2          0.93     118220.22   794.70  109149.67  130.50     8145.35   \n",
       "3          1.08      78992.15  1132.00   71976.41   72.58     5811.16   \n",
       "4          1.28      51039.60   941.48   43838.39   75.78     6183.95   \n",
       "\n",
       "   Small Bags  Large Bags  XLarge Bags  type  year  Month  Day  region  \n",
       "0     8603.62       93.25          0.0     0  2015     12   27       0  \n",
       "1     9408.07       97.49          0.0     0  2015     12   20       0  \n",
       "2     8042.21      103.14          0.0     0  2015     12   13       0  \n",
       "3     5677.40      133.76          0.0     0  2015     12    6       0  \n",
       "4     5986.26      197.69          0.0     0  2015     11   29       0  "
      ]
     },
     "execution_count": 70,
     "metadata": {},
     "output_type": "execute_result"
    }
   ],
   "source": [
    "df_new.head()"
   ]
  },
  {
   "cell_type": "code",
   "execution_count": 72,
   "id": "e7ce86bc",
   "metadata": {},
   "outputs": [
    {
     "data": {
      "text/plain": [
       "(17651, 14)"
      ]
     },
     "execution_count": 72,
     "metadata": {},
     "output_type": "execute_result"
    }
   ],
   "source": [
    "df_new.shape"
   ]
  },
  {
   "cell_type": "code",
   "execution_count": 74,
   "id": "ac55ba96",
   "metadata": {},
   "outputs": [
    {
     "data": {
      "text/plain": [
       "(18249, 14)"
      ]
     },
     "execution_count": 74,
     "metadata": {},
     "output_type": "execute_result"
    }
   ],
   "source": [
    "df.shape"
   ]
  },
  {
   "cell_type": "code",
   "execution_count": 75,
   "id": "19f859c8",
   "metadata": {},
   "outputs": [
    {
     "name": "stdout",
     "output_type": "stream",
     "text": [
      "3.276891884486821\n"
     ]
    }
   ],
   "source": [
    "loss_percentage=(18249-17651)/18249*100\n",
    "print(loss_percentage)"
   ]
  },
  {
   "cell_type": "markdown",
   "id": "1d0cfe08",
   "metadata": {},
   "source": [
    "Loss of data is very less after removing outliers"
   ]
  },
  {
   "cell_type": "code",
   "execution_count": 76,
   "id": "cdb4c9e3",
   "metadata": {},
   "outputs": [],
   "source": [
    "df=df_new"
   ]
  },
  {
   "cell_type": "markdown",
   "id": "b6869dbe",
   "metadata": {},
   "source": [
    "Now we will check the skewness in the data"
   ]
  },
  {
   "cell_type": "code",
   "execution_count": 77,
   "id": "ccc604d9",
   "metadata": {},
   "outputs": [
    {
     "data": {
      "text/plain": [
       "AveragePrice    0.377432\n",
       "Total Volume    3.767138\n",
       "4046            4.909848\n",
       "4225            4.455745\n",
       "4770            5.117170\n",
       "Total Bags      4.066771\n",
       "Small Bags      4.222706\n",
       "Large Bags      5.053434\n",
       "XLarge Bags     6.135607\n",
       "type           -0.037741\n",
       "year            0.229976\n",
       "Month           0.107408\n",
       "Day             0.011778\n",
       "region          0.012798\n",
       "dtype: float64"
      ]
     },
     "execution_count": 77,
     "metadata": {},
     "output_type": "execute_result"
    }
   ],
   "source": [
    "df.skew()"
   ]
  },
  {
   "cell_type": "markdown",
   "id": "b5a2b636",
   "metadata": {},
   "source": [
    "We will see the skewness using histogram graphs."
   ]
  },
  {
   "cell_type": "code",
   "execution_count": 80,
   "id": "08491425",
   "metadata": {},
   "outputs": [
    {
     "data": {
      "image/png": "[encoded data removed]",
      "text/plain": [
       "<Figure size 1080x1080 with 14 Axes>"
      ]
     },
     "metadata": {
      "needs_background": "light"
     },
     "output_type": "display_data"
    }
   ],
   "source": [
    "df.hist(bins=50, figsize=(15,15),grid=True, layout=(7,2))\n",
    "plt.show()"
   ]
  },
  {
   "cell_type": "markdown",
   "id": "c04d7068",
   "metadata": {},
   "source": [
    "Average price is normally distributed, but rest others are left skewed. So we will try to remove the skewness using power transform."
   ]
  },
  {
   "cell_type": "code",
   "execution_count": 81,
   "id": "d28f419e",
   "metadata": {},
   "outputs": [],
   "source": [
    "from sklearn.preprocessing import power_transform"
   ]
  },
  {
   "cell_type": "code",
   "execution_count": 83,
   "id": "9c06fe61",
   "metadata": {},
   "outputs": [
    {
     "data": {
      "text/html": [
       "<div>\n",
       "<style scoped>\n",
       "    .dataframe tbody tr th:only-of-type {\n",
       "        vertical-align: middle;\n",
       "    }\n",
       "\n",
       "    .dataframe tbody tr th {\n",
       "        vertical-align: top;\n",
       "    }\n",
       "\n",
       "    .dataframe thead th {\n",
       "        text-align: right;\n",
       "    }\n",
       "</style>\n",
       "<table border=\"1\" class=\"dataframe\">\n",
       "  <thead>\n",
       "    <tr style=\"text-align: right;\">\n",
       "      <th></th>\n",
       "      <th>Total Volume</th>\n",
       "      <th>4046</th>\n",
       "      <th>4225</th>\n",
       "      <th>4770</th>\n",
       "      <th>Total Bags</th>\n",
       "      <th>Small Bags</th>\n",
       "      <th>Large Bags</th>\n",
       "      <th>XLarge Bags</th>\n",
       "      <th>type</th>\n",
       "      <th>year</th>\n",
       "      <th>Month</th>\n",
       "      <th>Day</th>\n",
       "      <th>region</th>\n",
       "    </tr>\n",
       "  </thead>\n",
       "  <tbody>\n",
       "    <tr>\n",
       "      <th>0</th>\n",
       "      <td>64236.62</td>\n",
       "      <td>1036.74</td>\n",
       "      <td>54454.85</td>\n",
       "      <td>48.16</td>\n",
       "      <td>8696.87</td>\n",
       "      <td>8603.62</td>\n",
       "      <td>93.25</td>\n",
       "      <td>0.0</td>\n",
       "      <td>0</td>\n",
       "      <td>2015</td>\n",
       "      <td>12</td>\n",
       "      <td>27</td>\n",
       "      <td>0</td>\n",
       "    </tr>\n",
       "    <tr>\n",
       "      <th>1</th>\n",
       "      <td>54876.98</td>\n",
       "      <td>674.28</td>\n",
       "      <td>44638.81</td>\n",
       "      <td>58.33</td>\n",
       "      <td>9505.56</td>\n",
       "      <td>9408.07</td>\n",
       "      <td>97.49</td>\n",
       "      <td>0.0</td>\n",
       "      <td>0</td>\n",
       "      <td>2015</td>\n",
       "      <td>12</td>\n",
       "      <td>20</td>\n",
       "      <td>0</td>\n",
       "    </tr>\n",
       "    <tr>\n",
       "      <th>2</th>\n",
       "      <td>118220.22</td>\n",
       "      <td>794.70</td>\n",
       "      <td>109149.67</td>\n",
       "      <td>130.50</td>\n",
       "      <td>8145.35</td>\n",
       "      <td>8042.21</td>\n",
       "      <td>103.14</td>\n",
       "      <td>0.0</td>\n",
       "      <td>0</td>\n",
       "      <td>2015</td>\n",
       "      <td>12</td>\n",
       "      <td>13</td>\n",
       "      <td>0</td>\n",
       "    </tr>\n",
       "    <tr>\n",
       "      <th>3</th>\n",
       "      <td>78992.15</td>\n",
       "      <td>1132.00</td>\n",
       "      <td>71976.41</td>\n",
       "      <td>72.58</td>\n",
       "      <td>5811.16</td>\n",
       "      <td>5677.40</td>\n",
       "      <td>133.76</td>\n",
       "      <td>0.0</td>\n",
       "      <td>0</td>\n",
       "      <td>2015</td>\n",
       "      <td>12</td>\n",
       "      <td>6</td>\n",
       "      <td>0</td>\n",
       "    </tr>\n",
       "    <tr>\n",
       "      <th>4</th>\n",
       "      <td>51039.60</td>\n",
       "      <td>941.48</td>\n",
       "      <td>43838.39</td>\n",
       "      <td>75.78</td>\n",
       "      <td>6183.95</td>\n",
       "      <td>5986.26</td>\n",
       "      <td>197.69</td>\n",
       "      <td>0.0</td>\n",
       "      <td>0</td>\n",
       "      <td>2015</td>\n",
       "      <td>11</td>\n",
       "      <td>29</td>\n",
       "      <td>0</td>\n",
       "    </tr>\n",
       "    <tr>\n",
       "      <th>...</th>\n",
       "      <td>...</td>\n",
       "      <td>...</td>\n",
       "      <td>...</td>\n",
       "      <td>...</td>\n",
       "      <td>...</td>\n",
       "      <td>...</td>\n",
       "      <td>...</td>\n",
       "      <td>...</td>\n",
       "      <td>...</td>\n",
       "      <td>...</td>\n",
       "      <td>...</td>\n",
       "      <td>...</td>\n",
       "      <td>...</td>\n",
       "    </tr>\n",
       "    <tr>\n",
       "      <th>18244</th>\n",
       "      <td>17074.83</td>\n",
       "      <td>2046.96</td>\n",
       "      <td>1529.20</td>\n",
       "      <td>0.00</td>\n",
       "      <td>13498.67</td>\n",
       "      <td>13066.82</td>\n",
       "      <td>431.85</td>\n",
       "      <td>0.0</td>\n",
       "      <td>1</td>\n",
       "      <td>2018</td>\n",
       "      <td>2</td>\n",
       "      <td>4</td>\n",
       "      <td>53</td>\n",
       "    </tr>\n",
       "    <tr>\n",
       "      <th>18245</th>\n",
       "      <td>13888.04</td>\n",
       "      <td>1191.70</td>\n",
       "      <td>3431.50</td>\n",
       "      <td>0.00</td>\n",
       "      <td>9264.84</td>\n",
       "      <td>8940.04</td>\n",
       "      <td>324.80</td>\n",
       "      <td>0.0</td>\n",
       "      <td>1</td>\n",
       "      <td>2018</td>\n",
       "      <td>1</td>\n",
       "      <td>28</td>\n",
       "      <td>53</td>\n",
       "    </tr>\n",
       "    <tr>\n",
       "      <th>18246</th>\n",
       "      <td>13766.76</td>\n",
       "      <td>1191.92</td>\n",
       "      <td>2452.79</td>\n",
       "      <td>727.94</td>\n",
       "      <td>9394.11</td>\n",
       "      <td>9351.80</td>\n",
       "      <td>42.31</td>\n",
       "      <td>0.0</td>\n",
       "      <td>1</td>\n",
       "      <td>2018</td>\n",
       "      <td>1</td>\n",
       "      <td>21</td>\n",
       "      <td>53</td>\n",
       "    </tr>\n",
       "    <tr>\n",
       "      <th>18247</th>\n",
       "      <td>16205.22</td>\n",
       "      <td>1527.63</td>\n",
       "      <td>2981.04</td>\n",
       "      <td>727.01</td>\n",
       "      <td>10969.54</td>\n",
       "      <td>10919.54</td>\n",
       "      <td>50.00</td>\n",
       "      <td>0.0</td>\n",
       "      <td>1</td>\n",
       "      <td>2018</td>\n",
       "      <td>1</td>\n",
       "      <td>14</td>\n",
       "      <td>53</td>\n",
       "    </tr>\n",
       "    <tr>\n",
       "      <th>18248</th>\n",
       "      <td>17489.58</td>\n",
       "      <td>2894.77</td>\n",
       "      <td>2356.13</td>\n",
       "      <td>224.53</td>\n",
       "      <td>12014.15</td>\n",
       "      <td>11988.14</td>\n",
       "      <td>26.01</td>\n",
       "      <td>0.0</td>\n",
       "      <td>1</td>\n",
       "      <td>2018</td>\n",
       "      <td>1</td>\n",
       "      <td>7</td>\n",
       "      <td>53</td>\n",
       "    </tr>\n",
       "  </tbody>\n",
       "</table>\n",
       "<p>17651 rows × 13 columns</p>\n",
       "</div>"
      ],
      "text/plain": [
       "       Total Volume     4046       4225    4770  Total Bags  Small Bags  \\\n",
       "0          64236.62  1036.74   54454.85   48.16     8696.87     8603.62   \n",
       "1          54876.98   674.28   44638.81   58.33     9505.56     9408.07   \n",
       "2         118220.22   794.70  109149.67  130.50     8145.35     8042.21   \n",
       "3          78992.15  1132.00   71976.41   72.58     5811.16     5677.40   \n",
       "4          51039.60   941.48   43838.39   75.78     6183.95     5986.26   \n",
       "...             ...      ...        ...     ...         ...         ...   \n",
       "18244      17074.83  2046.96    1529.20    0.00    13498.67    13066.82   \n",
       "18245      13888.04  1191.70    3431.50    0.00     9264.84     8940.04   \n",
       "18246      13766.76  1191.92    2452.79  727.94     9394.11     9351.80   \n",
       "18247      16205.22  1527.63    2981.04  727.01    10969.54    10919.54   \n",
       "18248      17489.58  2894.77    2356.13  224.53    12014.15    11988.14   \n",
       "\n",
       "       Large Bags  XLarge Bags  type  year  Month  Day  region  \n",
       "0           93.25          0.0     0  2015     12   27       0  \n",
       "1           97.49          0.0     0  2015     12   20       0  \n",
       "2          103.14          0.0     0  2015     12   13       0  \n",
       "3          133.76          0.0     0  2015     12    6       0  \n",
       "4          197.69          0.0     0  2015     11   29       0  \n",
       "...           ...          ...   ...   ...    ...  ...     ...  \n",
       "18244      431.85          0.0     1  2018      2    4      53  \n",
       "18245      324.80          0.0     1  2018      1   28      53  \n",
       "18246       42.31          0.0     1  2018      1   21      53  \n",
       "18247       50.00          0.0     1  2018      1   14      53  \n",
       "18248       26.01          0.0     1  2018      1    7      53  \n",
       "\n",
       "[17651 rows x 13 columns]"
      ]
     },
     "execution_count": 83,
     "metadata": {},
     "output_type": "execute_result"
    }
   ],
   "source": [
    "x=df.iloc[:,1:]\n",
    "x"
   ]
  },
  {
   "cell_type": "code",
   "execution_count": 84,
   "id": "f1209671",
   "metadata": {},
   "outputs": [
    {
     "data": {
      "text/plain": [
       "0        1.33\n",
       "1        1.35\n",
       "2        0.93\n",
       "3        1.08\n",
       "4        1.28\n",
       "         ... \n",
       "18244    1.63\n",
       "18245    1.71\n",
       "18246    1.87\n",
       "18247    1.93\n",
       "18248    1.62\n",
       "Name: AveragePrice, Length: 17651, dtype: float64"
      ]
     },
     "execution_count": 84,
     "metadata": {},
     "output_type": "execute_result"
    }
   ],
   "source": [
    "y=df.iloc[:,-14]\n",
    "y"
   ]
  },
  {
   "cell_type": "code",
   "execution_count": 85,
   "id": "15f93c12",
   "metadata": {},
   "outputs": [
    {
     "data": {
      "text/plain": [
       "array([[-0.07532392, -0.65742071,  0.35142978, ...,  1.49138301,\n",
       "         1.22756521, -2.01058988],\n",
       "       [-0.14749743, -0.77717852,  0.26951276, ...,  1.49138301,\n",
       "         0.53822879, -2.01058988],\n",
       "       [ 0.20555556, -0.7317763 ,  0.64933326, ...,  1.49138301,\n",
       "        -0.21895878, -2.01058988],\n",
       "       ...,\n",
       "       [-0.77527399, -0.61796649, -0.77889327, ..., -1.64028838,\n",
       "         0.64019459,  1.57828237],\n",
       "       [-0.70179734, -0.54701087, -0.71637127, ..., -1.64028838,\n",
       "        -0.10529902,  1.57828237],\n",
       "       [-0.66738095, -0.35967077, -0.79165015, ..., -1.64028838,\n",
       "        -0.9581001 ,  1.57828237]])"
      ]
     },
     "execution_count": 85,
     "metadata": {},
     "output_type": "execute_result"
    }
   ],
   "source": [
    "x=power_transform(x,method='yeo-johnson')\n",
    "x"
   ]
  },
  {
   "cell_type": "markdown",
   "id": "24d74d1c",
   "metadata": {},
   "source": [
    "# Scaling of the data"
   ]
  },
  {
   "cell_type": "markdown",
   "id": "e630c2ba",
   "metadata": {},
   "source": [
    "We will use StandardScaler for scaling of data."
   ]
  },
  {
   "cell_type": "code",
   "execution_count": 92,
   "id": "c0729c3b",
   "metadata": {},
   "outputs": [],
   "source": [
    "from sklearn.preprocessing import StandardScaler"
   ]
  },
  {
   "cell_type": "code",
   "execution_count": 93,
   "id": "752ad672",
   "metadata": {},
   "outputs": [
    {
     "data": {
      "text/plain": [
       "array([[-0.07532392, -0.65742071,  0.35142978, ...,  1.49138301,\n",
       "         1.22756521, -2.01058988],\n",
       "       [-0.14749743, -0.77717852,  0.26951276, ...,  1.49138301,\n",
       "         0.53822879, -2.01058988],\n",
       "       [ 0.20555556, -0.7317763 ,  0.64933326, ...,  1.49138301,\n",
       "        -0.21895878, -2.01058988],\n",
       "       ...,\n",
       "       [-0.77527399, -0.61796649, -0.77889327, ..., -1.64028838,\n",
       "         0.64019459,  1.57828237],\n",
       "       [-0.70179734, -0.54701087, -0.71637127, ..., -1.64028838,\n",
       "        -0.10529902,  1.57828237],\n",
       "       [-0.66738095, -0.35967077, -0.79165015, ..., -1.64028838,\n",
       "        -0.9581001 ,  1.57828237]])"
      ]
     },
     "execution_count": 93,
     "metadata": {},
     "output_type": "execute_result"
    }
   ],
   "source": [
    "sc=StandardScaler()\n",
    "x=sc.fit_transform(x)\n",
    "x"
   ]
  },
  {
   "cell_type": "markdown",
   "id": "8f687847",
   "metadata": {},
   "source": [
    "# Prediction with Average Price"
   ]
  },
  {
   "cell_type": "code",
   "execution_count": 95,
   "id": "d462900c",
   "metadata": {},
   "outputs": [],
   "source": [
    "from sklearn.linear_model import LinearRegression\n",
    "from sklearn.metrics import mean_squared_error,mean_absolute_error\n",
    "from sklearn.metrics import r2_score\n",
    "from sklearn.model_selection import train_test_split\n",
    "import warnings"
   ]
  },
  {
   "cell_type": "code",
   "execution_count": 106,
   "id": "4d995d06",
   "metadata": {},
   "outputs": [],
   "source": [
    "from sklearn.linear_model import Lasso,Ridge\n",
    "from sklearn.linear_model import ElasticNet\n",
    "from sklearn.svm import SVR\n",
    "from sklearn.tree import DecisionTreeRegressor\n",
    "from sklearn.neighbors import KNeighborsRegressor\n",
    "from sklearn.ensemble import AdaBoostRegressor\n",
    "from sklearn.ensemble import GradientBoostingRegressor"
   ]
  },
  {
   "cell_type": "code",
   "execution_count": 98,
   "id": "a336ce7b",
   "metadata": {},
   "outputs": [],
   "source": [
    "x_train,x_test,y_train,y_test=train_test_split(x,y,test_size=.30,random_state=4)"
   ]
  },
  {
   "cell_type": "code",
   "execution_count": 99,
   "id": "751e3ce0",
   "metadata": {},
   "outputs": [
    {
     "data": {
      "text/plain": [
       "(12355, 13)"
      ]
     },
     "execution_count": 99,
     "metadata": {},
     "output_type": "execute_result"
    }
   ],
   "source": [
    "x_train.shape"
   ]
  },
  {
   "cell_type": "code",
   "execution_count": 100,
   "id": "fc158da1",
   "metadata": {},
   "outputs": [
    {
     "data": {
      "text/plain": [
       "(5296, 13)"
      ]
     },
     "execution_count": 100,
     "metadata": {},
     "output_type": "execute_result"
    }
   ],
   "source": [
    "x_test.shape"
   ]
  },
  {
   "cell_type": "code",
   "execution_count": 101,
   "id": "2f5678f4",
   "metadata": {},
   "outputs": [
    {
     "data": {
      "text/plain": [
       "(12355,)"
      ]
     },
     "execution_count": 101,
     "metadata": {},
     "output_type": "execute_result"
    }
   ],
   "source": [
    "y_train.shape"
   ]
  },
  {
   "cell_type": "code",
   "execution_count": 102,
   "id": "2037e9dc",
   "metadata": {},
   "outputs": [
    {
     "data": {
      "text/plain": [
       "0.5664786327272687"
      ]
     },
     "execution_count": 102,
     "metadata": {},
     "output_type": "execute_result"
    }
   ],
   "source": [
    "lr=LinearRegression()\n",
    "lr.fit(x_train,y_train)\n",
    "lr.score(x_train,y_train)"
   ]
  },
  {
   "cell_type": "markdown",
   "id": "127983fd",
   "metadata": {},
   "source": [
    "Here in linear regression score is coming out as 56%, we will use other models further to check the predicted score value."
   ]
  },
  {
   "cell_type": "code",
   "execution_count": 103,
   "id": "895fa4ec",
   "metadata": {},
   "outputs": [
    {
     "name": "stdout",
     "output_type": "stream",
     "text": [
      "Predicted result price: [1.06095933 1.1640769  1.76649234 ... 1.53147332 1.30601863 1.67150308]\n",
      "actual price 8701     0.56\n",
      "1227     1.05\n",
      "17773    1.34\n",
      "12338    1.70\n",
      "12862    2.31\n",
      "         ... \n",
      "11389    1.75\n",
      "16464    2.22\n",
      "10693    1.58\n",
      "11376    1.97\n",
      "9688     1.84\n",
      "Name: AveragePrice, Length: 5296, dtype: float64\n",
      "error:\n",
      "Mean absolute error: 0.19980789971152546\n",
      "Mean squared error: 0.06367461305825267\n",
      "Root Mean Squared Error: 0.25233829090776666\n"
     ]
    }
   ],
   "source": [
    "pred=lr.predict(x_test)\n",
    "print('Predicted result price:',pred)\n",
    "print('actual price',y_test)\n",
    "print('error:')\n",
    "print('Mean absolute error:',mean_absolute_error(y_test,pred))\n",
    "print('Mean squared error:',mean_squared_error(y_test,pred))\n",
    "print('Root Mean Squared Error:',np.sqrt(mean_squared_error(y_test,pred)))"
   ]
  },
  {
   "cell_type": "code",
   "execution_count": 104,
   "id": "bf6c4bb6",
   "metadata": {},
   "outputs": [
    {
     "name": "stdout",
     "output_type": "stream",
     "text": [
      "0.5665290505838356\n"
     ]
    }
   ],
   "source": [
    "print(r2_score(y_test,pred))"
   ]
  },
  {
   "cell_type": "markdown",
   "id": "83928f3d",
   "metadata": {},
   "source": [
    "In linear regression r2 score is 0.82, we will try to see it by using other models."
   ]
  },
  {
   "cell_type": "code",
   "execution_count": 107,
   "id": "6d2a1473",
   "metadata": {},
   "outputs": [
    {
     "data": {
      "text/plain": [
       "0.5664686267798715"
      ]
     },
     "execution_count": 107,
     "metadata": {},
     "output_type": "execute_result"
    }
   ],
   "source": [
    "ls=Lasso(alpha=0.0001)\n",
    "ls.fit(x_train,y_train)\n",
    "ls.score(x_train,y_train)"
   ]
  },
  {
   "cell_type": "code",
   "execution_count": 108,
   "id": "7f321001",
   "metadata": {},
   "outputs": [
    {
     "name": "stdout",
     "output_type": "stream",
     "text": [
      "Predicted result price: [1.06012572 1.16458779 1.76690919 ... 1.53412807 1.30936635 1.66983796]\n",
      "actual price 8701     0.56\n",
      "1227     1.05\n",
      "17773    1.34\n",
      "12338    1.70\n",
      "12862    2.31\n",
      "         ... \n",
      "11389    1.75\n",
      "16464    2.22\n",
      "10693    1.58\n",
      "11376    1.97\n",
      "9688     1.84\n",
      "Name: AveragePrice, Length: 5296, dtype: float64\n",
      "error:\n",
      "Mean absolute error: 0.1998066603455862\n",
      "Mean squared error: 0.06367250776157123\n",
      "Root Mean Squared Error: 0.2523341192973539\n"
     ]
    }
   ],
   "source": [
    "predls=ls.predict(x_test)\n",
    "print('Predicted result price:',predls)\n",
    "print('actual price',y_test)\n",
    "print('error:')\n",
    "print('Mean absolute error:',mean_absolute_error(y_test,predls))\n",
    "print('Mean squared error:',mean_squared_error(y_test,predls))\n",
    "print('Root Mean Squared Error:',np.sqrt(mean_squared_error(y_test,predls)))"
   ]
  },
  {
   "cell_type": "code",
   "execution_count": 109,
   "id": "4ef797e0",
   "metadata": {},
   "outputs": [
    {
     "name": "stdout",
     "output_type": "stream",
     "text": [
      "0.5665433825900699\n"
     ]
    }
   ],
   "source": [
    "print(r2_score(y_test,predls))"
   ]
  },
  {
   "cell_type": "markdown",
   "id": "6eb379d9",
   "metadata": {},
   "source": [
    "In lasso r2 score is 0.56, which is same as that of linear regression."
   ]
  },
  {
   "cell_type": "code",
   "execution_count": 110,
   "id": "9827f731",
   "metadata": {},
   "outputs": [
    {
     "data": {
      "text/plain": [
       "0.5664786327272648"
      ]
     },
     "execution_count": 110,
     "metadata": {},
     "output_type": "execute_result"
    }
   ],
   "source": [
    "rd=Ridge(alpha=0.0001)\n",
    "rd.fit(x_train,y_train)\n",
    "rd.score(x_train,y_train)"
   ]
  },
  {
   "cell_type": "code",
   "execution_count": 111,
   "id": "9c49453b",
   "metadata": {},
   "outputs": [
    {
     "name": "stdout",
     "output_type": "stream",
     "text": [
      "Predicted result price: [1.06095932 1.16407691 1.76649234 ... 1.53147336 1.30601872 1.67150304]\n",
      "actual price 8701     0.56\n",
      "1227     1.05\n",
      "17773    1.34\n",
      "12338    1.70\n",
      "12862    2.31\n",
      "         ... \n",
      "11389    1.75\n",
      "16464    2.22\n",
      "10693    1.58\n",
      "11376    1.97\n",
      "9688     1.84\n",
      "Name: AveragePrice, Length: 5296, dtype: float64\n",
      "error:\n",
      "Mean absolute error: 0.19980789992444323\n",
      "Mean squared error: 0.06367461301857266\n",
      "Root Mean Squared Error: 0.252338290829142\n"
     ]
    }
   ],
   "source": [
    "predrd=rd.predict(x_test)\n",
    "print('Predicted result price:',predrd)\n",
    "print('actual price',y_test)\n",
    "print('error:')\n",
    "print('Mean absolute error:',mean_absolute_error(y_test,predrd))\n",
    "print('Mean squared error:',mean_squared_error(y_test,predrd))\n",
    "print('Root Mean Squared Error:',np.sqrt(mean_squared_error(y_test,predrd)))"
   ]
  },
  {
   "cell_type": "code",
   "execution_count": 112,
   "id": "ef922705",
   "metadata": {},
   "outputs": [
    {
     "name": "stdout",
     "output_type": "stream",
     "text": [
      "0.5665290508539611\n"
     ]
    }
   ],
   "source": [
    "print(r2_score(y_test,predrd))"
   ]
  },
  {
   "cell_type": "markdown",
   "id": "35bd7429",
   "metadata": {},
   "source": [
    "In ridge r2 score is 0.56, which is same as that of Lasso and linear regression."
   ]
  },
  {
   "cell_type": "code",
   "execution_count": 113,
   "id": "fa1bd30d",
   "metadata": {},
   "outputs": [
    {
     "data": {
      "text/plain": [
       "0.5664748471800417"
      ]
     },
     "execution_count": 113,
     "metadata": {},
     "output_type": "execute_result"
    }
   ],
   "source": [
    "enr=ElasticNet(alpha=0.0001)\n",
    "enr.fit(x_train,y_train)\n",
    "enr.score(x_train,y_train)"
   ]
  },
  {
   "cell_type": "code",
   "execution_count": 114,
   "id": "8bc1e140",
   "metadata": {},
   "outputs": [
    {
     "name": "stdout",
     "output_type": "stream",
     "text": [
      "Predicted result price: [1.06043203 1.1643622  1.76673883 ... 1.53308994 1.30821872 1.67041926]\n",
      "actual price 8701     0.56\n",
      "1227     1.05\n",
      "17773    1.34\n",
      "12338    1.70\n",
      "12862    2.31\n",
      "         ... \n",
      "11389    1.75\n",
      "16464    2.22\n",
      "10693    1.58\n",
      "11376    1.97\n",
      "9688     1.84\n",
      "Name: AveragePrice, Length: 5296, dtype: float64\n",
      "error:\n",
      "Mean absolute error: 0.19980836954680006\n",
      "Mean squared error: 0.06367312362569831\n",
      "Root Mean Squared Error: 0.25233533962903076\n"
     ]
    }
   ],
   "source": [
    "predenr=enr.predict(x_test)\n",
    "print('Predicted result price:',predenr)\n",
    "print('actual price',y_test)\n",
    "print('error:')\n",
    "print('Mean absolute error:',mean_absolute_error(y_test,predenr))\n",
    "print('Mean squared error:',mean_squared_error(y_test,predenr))\n",
    "print('Root Mean Squared Error:',np.sqrt(mean_squared_error(y_test,predenr)))"
   ]
  },
  {
   "cell_type": "code",
   "execution_count": 115,
   "id": "72726735",
   "metadata": {},
   "outputs": [
    {
     "name": "stdout",
     "output_type": "stream",
     "text": [
      "0.566539190036789\n"
     ]
    }
   ],
   "source": [
    "print(r2_score(y_test,predenr))"
   ]
  },
  {
   "cell_type": "markdown",
   "id": "4050b6ab",
   "metadata": {},
   "source": [
    "In Elasticnet r2 score is 0.56, which is same as that of other three models."
   ]
  },
  {
   "cell_type": "code",
   "execution_count": 136,
   "id": "05b3661f",
   "metadata": {},
   "outputs": [
    {
     "name": "stdout",
     "output_type": "stream",
     "text": [
      "Predicted result value: [0.78884127 1.04214567 1.5739305  ... 1.69447719 1.87245604 1.82029513]\n",
      "actual value 8701     0.56\n",
      "1227     1.05\n",
      "17773    1.34\n",
      "12338    1.70\n",
      "12862    2.31\n",
      "         ... \n",
      "11389    1.75\n",
      "16464    2.22\n",
      "10693    1.58\n",
      "11376    1.97\n",
      "9688     1.84\n",
      "Name: AveragePrice, Length: 5296, dtype: float64\n",
      "Mean absolute error: 0.13272894172889949\n",
      "Mean squared error: 0.03134878740179395\n",
      "Root Mean Squared Error: 0.17705588779194537\n",
      "r2_score: 0.7865901654452234\n",
      "\n",
      "\n",
      "Predicted result value: [0.88 1.2  1.52 ... 1.84 1.66 1.78]\n",
      "actual value 8701     0.56\n",
      "1227     1.05\n",
      "17773    1.34\n",
      "12338    1.70\n",
      "12862    2.31\n",
      "         ... \n",
      "11389    1.75\n",
      "16464    2.22\n",
      "10693    1.58\n",
      "11376    1.97\n",
      "9688     1.84\n",
      "Name: AveragePrice, Length: 5296, dtype: float64\n",
      "Mean absolute error: 0.12967522658610273\n",
      "Mean squared error: 0.03921261329305136\n",
      "Root Mean Squared Error: 0.19802174954547636\n",
      "r2_score: 0.7330564270932011\n",
      "\n",
      "\n",
      "Predicted result value: [0.964 1.042 1.316 ... 1.712 1.86  1.594]\n",
      "actual value 8701     0.56\n",
      "1227     1.05\n",
      "17773    1.34\n",
      "12338    1.70\n",
      "12862    2.31\n",
      "         ... \n",
      "11389    1.75\n",
      "16464    2.22\n",
      "10693    1.58\n",
      "11376    1.97\n",
      "9688     1.84\n",
      "Name: AveragePrice, Length: 5296, dtype: float64\n",
      "Mean absolute error: 0.12887688821752266\n",
      "Mean squared error: 0.031254965256797586\n",
      "Root Mean Squared Error: 0.17679073860583758\n",
      "r2_score: 0.7872288685690356\n",
      "\n",
      "\n",
      "Predicted result value: [1.08763838 1.22658404 1.67941317 ... 1.71268515 1.69706512 1.73945682]\n",
      "actual value 8701     0.56\n",
      "1227     1.05\n",
      "17773    1.34\n",
      "12338    1.70\n",
      "12862    2.31\n",
      "         ... \n",
      "11389    1.75\n",
      "16464    2.22\n",
      "10693    1.58\n",
      "11376    1.97\n",
      "9688     1.84\n",
      "Name: AveragePrice, Length: 5296, dtype: float64\n",
      "Mean absolute error: 0.20793303739295657\n",
      "Mean squared error: 0.06591718540130455\n",
      "Root Mean Squared Error: 0.2567434232873445\n",
      "r2_score: 0.5512625273026055\n",
      "\n",
      "\n",
      "Predicted result value: [0.91499175 1.10610576 1.68554307 ... 1.60001592 1.63199746 1.70611663]\n",
      "actual value 8701     0.56\n",
      "1227     1.05\n",
      "17773    1.34\n",
      "12338    1.70\n",
      "12862    2.31\n",
      "         ... \n",
      "11389    1.75\n",
      "16464    2.22\n",
      "10693    1.58\n",
      "11376    1.97\n",
      "9688     1.84\n",
      "Name: AveragePrice, Length: 5296, dtype: float64\n",
      "Mean absolute error: 0.14935615297351962\n",
      "Mean squared error: 0.037513064668376284\n",
      "Root Mean Squared Error: 0.19368289720152443\n",
      "r2_score: 0.7446262650636788\n",
      "\n",
      "\n"
     ]
    }
   ],
   "source": [
    "svr=SVR()\n",
    "dtr=DecisionTreeRegressor()\n",
    "knr=KNeighborsRegressor()\n",
    "adr=AdaBoostRegressor()\n",
    "gbr=GradientBoostingRegressor()\n",
    "\n",
    "model=[svr,dtr,knr,adr,gbr]\n",
    "\n",
    "for m in model:\n",
    "    m.fit(x_train,y_train)\n",
    "    m.score(x_train,y_train)\n",
    "    predm=m.predict(x_test)\n",
    "    print('Predicted result value:',predm)\n",
    "    print('actual value',y_test)\n",
    "    print('Mean absolute error:',mean_absolute_error(y_test,predm))\n",
    "    print('Mean squared error:',mean_squared_error(y_test,predm))\n",
    "    print('Root Mean Squared Error:',np.sqrt(mean_squared_error(y_test,predm)))\n",
    "    print('r2_score:',r2_score(y_test,predm))\n",
    "    print('\\n')"
   ]
  },
  {
   "cell_type": "markdown",
   "id": "00828fd4",
   "metadata": {},
   "source": [
    "Here we can clearly see that best model is KNeighborsRegressor as it has the highest r2 score i.e 78% and lowest Root Mean Squared Error: 0.1767"
   ]
  },
  {
   "cell_type": "markdown",
   "id": "58aba5e7",
   "metadata": {},
   "source": [
    "# Cross Validation"
   ]
  },
  {
   "cell_type": "code",
   "execution_count": 121,
   "id": "f067af02",
   "metadata": {},
   "outputs": [],
   "source": [
    "from sklearn.model_selection import cross_val_score"
   ]
  },
  {
   "cell_type": "code",
   "execution_count": 122,
   "id": "665793bd",
   "metadata": {},
   "outputs": [
    {
     "name": "stdout",
     "output_type": "stream",
     "text": [
      "[-0.55038772  0.35726655  0.28186723  0.29357236  0.03677443  0.23424838\n",
      "  0.36195551  0.27166733]\n",
      "0.16087050878283465\n",
      "0.285088784960649\n"
     ]
    }
   ],
   "source": [
    "score=cross_val_score(lr,x,y,cv=8)\n",
    "print(score)\n",
    "print (score.mean())\n",
    "print (score.std())"
   ]
  },
  {
   "cell_type": "code",
   "execution_count": 123,
   "id": "6edd3c2c",
   "metadata": {},
   "outputs": [
    {
     "name": "stdout",
     "output_type": "stream",
     "text": [
      "[-0.54997076  0.35732513  0.28237727  0.29354673  0.03762354  0.23403286\n",
      "  0.3613937   0.27104803]\n",
      "0.1609220613531643\n",
      "0.28485692699526505\n"
     ]
    }
   ],
   "source": [
    "score=cross_val_score(ls,x,y,cv=8)\n",
    "print(score)\n",
    "print (score.mean())\n",
    "print (score.std())"
   ]
  },
  {
   "cell_type": "code",
   "execution_count": 124,
   "id": "a247eca9",
   "metadata": {},
   "outputs": [
    {
     "name": "stdout",
     "output_type": "stream",
     "text": [
      "[-0.55038775  0.35726654  0.28186723  0.29357236  0.0367745   0.23424839\n",
      "  0.3619555   0.27166733]\n",
      "0.1608705123632359\n",
      "0.285088789549718\n"
     ]
    }
   ],
   "source": [
    "score=cross_val_score(rd,x,y,cv=8)\n",
    "print(score)\n",
    "print (score.mean())\n",
    "print (score.std())"
   ]
  },
  {
   "cell_type": "code",
   "execution_count": 125,
   "id": "b3d5178b",
   "metadata": {},
   "outputs": [
    {
     "name": "stdout",
     "output_type": "stream",
     "text": [
      "[-0.55038964  0.35724937  0.28217385  0.29353557  0.03771536  0.23417829\n",
      "  0.36164182  0.27132843]\n",
      "0.16092913194856934\n",
      "0.28500470384126353\n"
     ]
    }
   ],
   "source": [
    "score=cross_val_score(enr,x,y,cv=8)\n",
    "print(score)\n",
    "print (score.mean())\n",
    "print (score.std())"
   ]
  },
  {
   "cell_type": "code",
   "execution_count": 208,
   "id": "f97706c3",
   "metadata": {},
   "outputs": [
    {
     "name": "stdout",
     "output_type": "stream",
     "text": [
      "[-0.38641409 -0.16062371  0.05423961 -0.28028759  0.00466592 -0.05888529\n",
      " -0.00511897 -1.11840369]\n",
      "-0.24385347514476916\n",
      "0.35972993629944944\n"
     ]
    }
   ],
   "source": [
    "score=cross_val_score(svr,x,y,cv=8)\n",
    "print(score)\n",
    "print (score.mean())\n",
    "print (score.std())"
   ]
  },
  {
   "cell_type": "code",
   "execution_count": 209,
   "id": "e661bdb9",
   "metadata": {},
   "outputs": [
    {
     "name": "stdout",
     "output_type": "stream",
     "text": [
      "[-1.86298848 -0.67727479 -1.03080534 -2.34207279 -1.87150634 -2.22386022\n",
      " -1.78445387 -3.37307489]\n",
      "-1.8957545900625399\n",
      "0.7694322733371155\n"
     ]
    }
   ],
   "source": [
    "score=cross_val_score(dtr,x,y,cv=8)\n",
    "print(score)\n",
    "print (score.mean())\n",
    "print (score.std())"
   ]
  },
  {
   "cell_type": "code",
   "execution_count": 210,
   "id": "83106ae9",
   "metadata": {},
   "outputs": [
    {
     "name": "stdout",
     "output_type": "stream",
     "text": [
      "[-0.33371072 -0.02310751  0.40316277 -0.07172206 -0.46684205 -0.10796899\n",
      "  0.09620516 -0.85211124]\n",
      "-0.16951183087268357\n",
      "0.35613459463920416\n"
     ]
    }
   ],
   "source": [
    "score=cross_val_score(knr,x,y,cv=8)\n",
    "print(score)\n",
    "print (score.mean())\n",
    "print (score.std())"
   ]
  },
  {
   "cell_type": "code",
   "execution_count": 211,
   "id": "b54fead1",
   "metadata": {},
   "outputs": [
    {
     "name": "stdout",
     "output_type": "stream",
     "text": [
      "[-0.31632898 -0.18477585 -0.14752138 -0.52073657  0.00545745 -0.11478181\n",
      " -0.08272211 -0.69434372]\n",
      "-0.2569691208894902\n",
      "0.22389479513182756\n"
     ]
    }
   ],
   "source": [
    "score=cross_val_score(adr,x,y,cv=8)\n",
    "print(score)\n",
    "print (score.mean())\n",
    "print (score.std())"
   ]
  },
  {
   "cell_type": "code",
   "execution_count": 212,
   "id": "05a6dd20",
   "metadata": {},
   "outputs": [
    {
     "name": "stdout",
     "output_type": "stream",
     "text": [
      "[-1.12424251 -0.31752736 -0.26442915 -0.95110517 -0.31753271 -0.84188673\n",
      " -0.57561482 -1.68193443]\n",
      "-0.7592841101637073\n",
      "0.46057110214458713\n"
     ]
    }
   ],
   "source": [
    "score=cross_val_score(gbr,x,y,cv=8)\n",
    "print(score)\n",
    "print (score.mean())\n",
    "print (score.std())"
   ]
  },
  {
   "cell_type": "markdown",
   "id": "891f5b0d",
   "metadata": {},
   "source": [
    "# Hypermeter Tuning"
   ]
  },
  {
   "cell_type": "code",
   "execution_count": 128,
   "id": "74bee44c",
   "metadata": {},
   "outputs": [],
   "source": [
    "from sklearn.model_selection import GridSearchCV"
   ]
  },
  {
   "cell_type": "markdown",
   "id": "3dd7f610",
   "metadata": {},
   "source": [
    "As we have choosen KNeighborsRegressor as our best model, so we will try to tune it using gridsearch CV"
   ]
  },
  {
   "cell_type": "code",
   "execution_count": 154,
   "id": "3e940723",
   "metadata": {},
   "outputs": [],
   "source": [
    "param_knr={'n_neighbors':range(1,50)}\n",
    "modelknr=KNeighborsRegressor()"
   ]
  },
  {
   "cell_type": "code",
   "execution_count": 155,
   "id": "64730c52",
   "metadata": {},
   "outputs": [
    {
     "name": "stdout",
     "output_type": "stream",
     "text": [
      "GridSearchCV(estimator=KNeighborsRegressor(),\n",
      "             param_grid={'n_neighbors': range(1, 50)})\n",
      "0.19161340240142583\n",
      "KNeighborsRegressor(n_neighbors=41)\n",
      "{'n_neighbors': 41}\n"
     ]
    }
   ],
   "source": [
    "grid=GridSearchCV(estimator=modelknr,param_grid=param_knr)\n",
    "grid.fit(x,y)\n",
    "print(grid)\n",
    "print(grid.best_score_)\n",
    "print(grid.best_estimator_)\n",
    "print(grid.best_params_)"
   ]
  },
  {
   "cell_type": "code",
   "execution_count": 156,
   "id": "6e76fea6",
   "metadata": {},
   "outputs": [
    {
     "name": "stdout",
     "output_type": "stream",
     "text": [
      "Predicted result value: [0.98243902 1.10439024 1.60439024 ... 1.64317073 1.70780488 1.60829268]\n",
      "actual value 8701     0.56\n",
      "1227     1.05\n",
      "17773    1.34\n",
      "12338    1.70\n",
      "12862    2.31\n",
      "         ... \n",
      "11389    1.75\n",
      "16464    2.22\n",
      "10693    1.58\n",
      "11376    1.97\n",
      "9688     1.84\n",
      "Name: AveragePrice, Length: 5296, dtype: float64\n",
      "Mean absolute error: 0.1625824368137941\n",
      "Mean squared error: 0.0450444848547207\n",
      "Root Mean Squared Error: 0.2122368602640001\n",
      "r2_score: 0.6933554099798777\n"
     ]
    }
   ],
   "source": [
    "knr1=KNeighborsRegressor(n_neighbors=41)\n",
    "knr1.fit(x_train,y_train)\n",
    "knr1.score(x_train,y_train)\n",
    "predknr1=knr1.predict(x_test)\n",
    "print('Predicted result value:',predknr1)\n",
    "print('actual value',y_test)\n",
    "print('Mean absolute error:',mean_absolute_error(y_test,predknr1))\n",
    "print('Mean squared error:',mean_squared_error(y_test,predknr1))\n",
    "print('Root Mean Squared Error:',np.sqrt(mean_squared_error(y_test,predknr1)))\n",
    "print('r2_score:',r2_score(y_test,predknr1))"
   ]
  },
  {
   "cell_type": "markdown",
   "id": "117e8bd4",
   "metadata": {},
   "source": [
    "As we can see that,by using GridsearchCv we are getting best value of 45 in KNeighborsRegressor but if we are using n_neighbors=45 then our r2 score got decreased from 0.78 to 0.69. Also our RMSE increased from 0.17 to 0.21. So, we will not use value n_neighbors=45, instead we will go with our default value i.e n_neighbors=5 for best result."
   ]
  },
  {
   "cell_type": "markdown",
   "id": "a41df924",
   "metadata": {},
   "source": [
    "# Prediction with Region:"
   ]
  },
  {
   "cell_type": "code",
   "execution_count": 157,
   "id": "19211fd0",
   "metadata": {},
   "outputs": [
    {
     "data": {
      "text/html": [
       "<div>\n",
       "<style scoped>\n",
       "    .dataframe tbody tr th:only-of-type {\n",
       "        vertical-align: middle;\n",
       "    }\n",
       "\n",
       "    .dataframe tbody tr th {\n",
       "        vertical-align: top;\n",
       "    }\n",
       "\n",
       "    .dataframe thead th {\n",
       "        text-align: right;\n",
       "    }\n",
       "</style>\n",
       "<table border=\"1\" class=\"dataframe\">\n",
       "  <thead>\n",
       "    <tr style=\"text-align: right;\">\n",
       "      <th></th>\n",
       "      <th>AveragePrice</th>\n",
       "      <th>Total Volume</th>\n",
       "      <th>4046</th>\n",
       "      <th>4225</th>\n",
       "      <th>4770</th>\n",
       "      <th>Total Bags</th>\n",
       "      <th>Small Bags</th>\n",
       "      <th>Large Bags</th>\n",
       "      <th>XLarge Bags</th>\n",
       "      <th>type</th>\n",
       "      <th>year</th>\n",
       "      <th>Month</th>\n",
       "      <th>Day</th>\n",
       "      <th>region</th>\n",
       "    </tr>\n",
       "  </thead>\n",
       "  <tbody>\n",
       "    <tr>\n",
       "      <th>0</th>\n",
       "      <td>1.33</td>\n",
       "      <td>64236.62</td>\n",
       "      <td>1036.74</td>\n",
       "      <td>54454.85</td>\n",
       "      <td>48.16</td>\n",
       "      <td>8696.87</td>\n",
       "      <td>8603.62</td>\n",
       "      <td>93.25</td>\n",
       "      <td>0.0</td>\n",
       "      <td>0</td>\n",
       "      <td>2015</td>\n",
       "      <td>12</td>\n",
       "      <td>27</td>\n",
       "      <td>0</td>\n",
       "    </tr>\n",
       "    <tr>\n",
       "      <th>1</th>\n",
       "      <td>1.35</td>\n",
       "      <td>54876.98</td>\n",
       "      <td>674.28</td>\n",
       "      <td>44638.81</td>\n",
       "      <td>58.33</td>\n",
       "      <td>9505.56</td>\n",
       "      <td>9408.07</td>\n",
       "      <td>97.49</td>\n",
       "      <td>0.0</td>\n",
       "      <td>0</td>\n",
       "      <td>2015</td>\n",
       "      <td>12</td>\n",
       "      <td>20</td>\n",
       "      <td>0</td>\n",
       "    </tr>\n",
       "    <tr>\n",
       "      <th>2</th>\n",
       "      <td>0.93</td>\n",
       "      <td>118220.22</td>\n",
       "      <td>794.70</td>\n",
       "      <td>109149.67</td>\n",
       "      <td>130.50</td>\n",
       "      <td>8145.35</td>\n",
       "      <td>8042.21</td>\n",
       "      <td>103.14</td>\n",
       "      <td>0.0</td>\n",
       "      <td>0</td>\n",
       "      <td>2015</td>\n",
       "      <td>12</td>\n",
       "      <td>13</td>\n",
       "      <td>0</td>\n",
       "    </tr>\n",
       "    <tr>\n",
       "      <th>3</th>\n",
       "      <td>1.08</td>\n",
       "      <td>78992.15</td>\n",
       "      <td>1132.00</td>\n",
       "      <td>71976.41</td>\n",
       "      <td>72.58</td>\n",
       "      <td>5811.16</td>\n",
       "      <td>5677.40</td>\n",
       "      <td>133.76</td>\n",
       "      <td>0.0</td>\n",
       "      <td>0</td>\n",
       "      <td>2015</td>\n",
       "      <td>12</td>\n",
       "      <td>6</td>\n",
       "      <td>0</td>\n",
       "    </tr>\n",
       "    <tr>\n",
       "      <th>4</th>\n",
       "      <td>1.28</td>\n",
       "      <td>51039.60</td>\n",
       "      <td>941.48</td>\n",
       "      <td>43838.39</td>\n",
       "      <td>75.78</td>\n",
       "      <td>6183.95</td>\n",
       "      <td>5986.26</td>\n",
       "      <td>197.69</td>\n",
       "      <td>0.0</td>\n",
       "      <td>0</td>\n",
       "      <td>2015</td>\n",
       "      <td>11</td>\n",
       "      <td>29</td>\n",
       "      <td>0</td>\n",
       "    </tr>\n",
       "  </tbody>\n",
       "</table>\n",
       "</div>"
      ],
      "text/plain": [
       "   AveragePrice  Total Volume     4046       4225    4770  Total Bags  \\\n",
       "0          1.33      64236.62  1036.74   54454.85   48.16     8696.87   \n",
       "1          1.35      54876.98   674.28   44638.81   58.33     9505.56   \n",
       "2          0.93     118220.22   794.70  109149.67  130.50     8145.35   \n",
       "3          1.08      78992.15  1132.00   71976.41   72.58     5811.16   \n",
       "4          1.28      51039.60   941.48   43838.39   75.78     6183.95   \n",
       "\n",
       "   Small Bags  Large Bags  XLarge Bags  type  year  Month  Day  region  \n",
       "0     8603.62       93.25          0.0     0  2015     12   27       0  \n",
       "1     9408.07       97.49          0.0     0  2015     12   20       0  \n",
       "2     8042.21      103.14          0.0     0  2015     12   13       0  \n",
       "3     5677.40      133.76          0.0     0  2015     12    6       0  \n",
       "4     5986.26      197.69          0.0     0  2015     11   29       0  "
      ]
     },
     "execution_count": 157,
     "metadata": {},
     "output_type": "execute_result"
    }
   ],
   "source": [
    "df.head()"
   ]
  },
  {
   "cell_type": "code",
   "execution_count": 162,
   "id": "9e7192e2",
   "metadata": {},
   "outputs": [
    {
     "data": {
      "text/html": [
       "<div>\n",
       "<style scoped>\n",
       "    .dataframe tbody tr th:only-of-type {\n",
       "        vertical-align: middle;\n",
       "    }\n",
       "\n",
       "    .dataframe tbody tr th {\n",
       "        vertical-align: top;\n",
       "    }\n",
       "\n",
       "    .dataframe thead th {\n",
       "        text-align: right;\n",
       "    }\n",
       "</style>\n",
       "<table border=\"1\" class=\"dataframe\">\n",
       "  <thead>\n",
       "    <tr style=\"text-align: right;\">\n",
       "      <th></th>\n",
       "      <th>AveragePrice</th>\n",
       "      <th>Total Volume</th>\n",
       "      <th>4046</th>\n",
       "      <th>4225</th>\n",
       "      <th>4770</th>\n",
       "      <th>Total Bags</th>\n",
       "      <th>Small Bags</th>\n",
       "      <th>Large Bags</th>\n",
       "      <th>XLarge Bags</th>\n",
       "      <th>type</th>\n",
       "      <th>year</th>\n",
       "      <th>Month</th>\n",
       "      <th>Day</th>\n",
       "    </tr>\n",
       "  </thead>\n",
       "  <tbody>\n",
       "    <tr>\n",
       "      <th>0</th>\n",
       "      <td>1.33</td>\n",
       "      <td>64236.62</td>\n",
       "      <td>1036.74</td>\n",
       "      <td>54454.85</td>\n",
       "      <td>48.16</td>\n",
       "      <td>8696.87</td>\n",
       "      <td>8603.62</td>\n",
       "      <td>93.25</td>\n",
       "      <td>0.0</td>\n",
       "      <td>0</td>\n",
       "      <td>2015</td>\n",
       "      <td>12</td>\n",
       "      <td>27</td>\n",
       "    </tr>\n",
       "    <tr>\n",
       "      <th>1</th>\n",
       "      <td>1.35</td>\n",
       "      <td>54876.98</td>\n",
       "      <td>674.28</td>\n",
       "      <td>44638.81</td>\n",
       "      <td>58.33</td>\n",
       "      <td>9505.56</td>\n",
       "      <td>9408.07</td>\n",
       "      <td>97.49</td>\n",
       "      <td>0.0</td>\n",
       "      <td>0</td>\n",
       "      <td>2015</td>\n",
       "      <td>12</td>\n",
       "      <td>20</td>\n",
       "    </tr>\n",
       "    <tr>\n",
       "      <th>2</th>\n",
       "      <td>0.93</td>\n",
       "      <td>118220.22</td>\n",
       "      <td>794.70</td>\n",
       "      <td>109149.67</td>\n",
       "      <td>130.50</td>\n",
       "      <td>8145.35</td>\n",
       "      <td>8042.21</td>\n",
       "      <td>103.14</td>\n",
       "      <td>0.0</td>\n",
       "      <td>0</td>\n",
       "      <td>2015</td>\n",
       "      <td>12</td>\n",
       "      <td>13</td>\n",
       "    </tr>\n",
       "    <tr>\n",
       "      <th>3</th>\n",
       "      <td>1.08</td>\n",
       "      <td>78992.15</td>\n",
       "      <td>1132.00</td>\n",
       "      <td>71976.41</td>\n",
       "      <td>72.58</td>\n",
       "      <td>5811.16</td>\n",
       "      <td>5677.40</td>\n",
       "      <td>133.76</td>\n",
       "      <td>0.0</td>\n",
       "      <td>0</td>\n",
       "      <td>2015</td>\n",
       "      <td>12</td>\n",
       "      <td>6</td>\n",
       "    </tr>\n",
       "  </tbody>\n",
       "</table>\n",
       "</div>"
      ],
      "text/plain": [
       "   AveragePrice  Total Volume     4046       4225    4770  Total Bags  \\\n",
       "0          1.33      64236.62  1036.74   54454.85   48.16     8696.87   \n",
       "1          1.35      54876.98   674.28   44638.81   58.33     9505.56   \n",
       "2          0.93     118220.22   794.70  109149.67  130.50     8145.35   \n",
       "3          1.08      78992.15  1132.00   71976.41   72.58     5811.16   \n",
       "\n",
       "   Small Bags  Large Bags  XLarge Bags  type  year  Month  Day  \n",
       "0     8603.62       93.25          0.0     0  2015     12   27  \n",
       "1     9408.07       97.49          0.0     0  2015     12   20  \n",
       "2     8042.21      103.14          0.0     0  2015     12   13  \n",
       "3     5677.40      133.76          0.0     0  2015     12    6  "
      ]
     },
     "execution_count": 162,
     "metadata": {},
     "output_type": "execute_result"
    }
   ],
   "source": [
    "x1=df.iloc[:,0:-1]\n",
    "x1.head(4)"
   ]
  },
  {
   "cell_type": "code",
   "execution_count": 161,
   "id": "6e27a930",
   "metadata": {},
   "outputs": [
    {
     "data": {
      "text/plain": [
       "0    0\n",
       "1    0\n",
       "2    0\n",
       "3    0\n",
       "Name: region, dtype: int64"
      ]
     },
     "execution_count": 161,
     "metadata": {},
     "output_type": "execute_result"
    }
   ],
   "source": [
    "y1=df.iloc[:,-1]\n",
    "y1.head(4)"
   ]
  },
  {
   "cell_type": "code",
   "execution_count": 163,
   "id": "da936b7d",
   "metadata": {},
   "outputs": [
    {
     "data": {
      "text/plain": [
       "array([[-0.19535234, -0.3920086 , -0.34945151, ..., -1.21001338,\n",
       "         1.64461178,  1.28930873],\n",
       "       [-0.1435096 , -0.40125088, -0.3502761 , ..., -1.21001338,\n",
       "         1.64461178,  0.49165249],\n",
       "       [-1.2322071 , -0.33870193, -0.35000214, ..., -1.21001338,\n",
       "         1.64461178, -0.30600376],\n",
       "       ...,\n",
       "       [ 1.20440158, -0.44184559, -0.34909848, ...,  1.98075592,\n",
       "        -1.46287832,  0.60560338],\n",
       "       [ 1.35992979, -0.43943771, -0.34833475, ...,  1.98075592,\n",
       "        -1.46287832, -0.19205286],\n",
       "       [ 0.55636736, -0.43816945, -0.34522454, ...,  1.98075592,\n",
       "        -1.46287832, -0.98970911]])"
      ]
     },
     "execution_count": 163,
     "metadata": {},
     "output_type": "execute_result"
    }
   ],
   "source": [
    "sc=StandardScaler()\n",
    "x1=sc.fit_transform(x1)\n",
    "x1"
   ]
  },
  {
   "cell_type": "code",
   "execution_count": 182,
   "id": "26f8630b",
   "metadata": {},
   "outputs": [],
   "source": [
    "from sklearn.linear_model import LogisticRegression\n",
    "from sklearn.metrics import accuracy_score\n",
    "from sklearn.metrics import confusion_matrix,classification_report\n",
    "from sklearn.metrics import mean_squared_error,mean_absolute_error\n",
    "from sklearn.model_selection import train_test_split\n",
    "import warnings\n",
    "warnings.filterwarnings('ignore')"
   ]
  },
  {
   "cell_type": "code",
   "execution_count": 183,
   "id": "96c7f9b7",
   "metadata": {},
   "outputs": [],
   "source": [
    "from sklearn.naive_bayes import MultinomialNB\n",
    "from sklearn.svm import SVC\n",
    "from sklearn.tree import DecisionTreeClassifier\n",
    "from sklearn.neighbors import KNeighborsClassifier\n",
    "from sklearn.ensemble import AdaBoostClassifier\n",
    "from sklearn.ensemble import GradientBoostingClassifier"
   ]
  },
  {
   "cell_type": "code",
   "execution_count": 184,
   "id": "9de42671",
   "metadata": {},
   "outputs": [],
   "source": [
    "x1_train,x1_test,y1_train,y1_test=train_test_split(x1,y1,test_size=.30,random_state=90)"
   ]
  },
  {
   "cell_type": "code",
   "execution_count": 187,
   "id": "897bedec",
   "metadata": {},
   "outputs": [
    {
     "name": "stdout",
     "output_type": "stream",
     "text": [
      "Predicted result value: [49 13 34 ... 34 41 16]\n",
      "actual value 5628      0\n",
      "676      13\n",
      "13157    23\n",
      "15373    11\n",
      "11031    36\n",
      "         ..\n",
      "3045      4\n",
      "12005     1\n",
      "17935    27\n",
      "2138     41\n",
      "18085    40\n",
      "Name: region, Length: 5296, dtype: int64\n",
      "0.3561178247734139\n",
      "[[15  0  3 ...  0  0  0]\n",
      " [ 2 33  4 ...  0  0  0]\n",
      " [ 2  0 50 ...  0  0  0]\n",
      " ...\n",
      " [ 0  0  0 ... 50  1  0]\n",
      " [ 0  0  0 ...  0 68  0]\n",
      " [ 2  0  2 ...  0  0 33]]\n",
      "              precision    recall  f1-score   support\n",
      "\n",
      "           0       0.08      0.14      0.10       104\n",
      "           1       0.58      0.31      0.40       108\n",
      "           2       0.19      0.56      0.29        89\n",
      "           3       0.50      0.10      0.16       115\n",
      "           4       0.54      0.29      0.38       102\n",
      "           5       0.27      0.23      0.25       109\n",
      "           6       0.79      0.55      0.65        89\n",
      "           7       0.25      0.14      0.18        93\n",
      "           8       0.96      0.47      0.63       109\n",
      "           9       0.31      0.46      0.37        92\n",
      "          10       0.38      0.16      0.22        95\n",
      "          11       0.42      0.40      0.41       101\n",
      "          12       0.79      0.48      0.60       110\n",
      "          13       0.83      0.38      0.52       106\n",
      "          14       0.53      0.20      0.29        93\n",
      "          15       0.79      0.49      0.60        90\n",
      "          16       0.09      0.39      0.15        87\n",
      "          17       0.21      0.64      0.32        81\n",
      "          18       0.20      0.43      0.27       105\n",
      "          19       0.10      0.22      0.14       108\n",
      "          20       0.47      0.23      0.31       101\n",
      "          21       0.68      0.26      0.38       108\n",
      "          22       0.98      0.48      0.65       110\n",
      "          23       0.68      0.24      0.36       111\n",
      "          24       0.72      0.41      0.52        96\n",
      "          25       0.78      0.60      0.67       104\n",
      "          26       0.24      0.36      0.29        88\n",
      "          27       0.19      0.22      0.21        86\n",
      "          28       0.41      0.66      0.51       100\n",
      "          29       0.95      0.72      0.82       108\n",
      "          30       0.13      0.22      0.16        98\n",
      "          31       0.33      0.19      0.24       108\n",
      "          32       0.27      0.36      0.31       100\n",
      "          33       0.41      0.32      0.36        93\n",
      "          34       0.07      0.42      0.12       103\n",
      "          35       0.86      0.54      0.66       119\n",
      "          36       0.73      0.32      0.44        95\n",
      "          37       0.35      0.24      0.29        91\n",
      "          38       0.35      0.22      0.27       102\n",
      "          39       0.23      0.20      0.21        96\n",
      "          40       0.75      0.40      0.52       117\n",
      "          41       0.72      0.37      0.48       104\n",
      "          42       0.96      0.53      0.68        87\n",
      "          43       1.00      0.33      0.50        96\n",
      "          44       0.68      0.27      0.39       102\n",
      "          45       0.65      0.73      0.69        75\n",
      "          46       0.70      0.41      0.51        86\n",
      "          47       0.24      0.11      0.15       104\n",
      "          48       0.09      0.02      0.03        98\n",
      "          49       0.20      0.18      0.19       106\n",
      "          50       0.17      0.02      0.03       116\n",
      "          51       1.00      0.98      0.99        51\n",
      "          52       0.91      0.93      0.92        73\n",
      "          53       0.62      0.42      0.50        78\n",
      "\n",
      "    accuracy                           0.36      5296\n",
      "   macro avg       0.51      0.37      0.39      5296\n",
      "weighted avg       0.50      0.36      0.39      5296\n",
      "\n",
      "\n",
      "\n",
      "Predicted result value: [ 0 13 23 ... 27 41 21]\n",
      "actual value 5628      0\n",
      "676      13\n",
      "13157    23\n",
      "15373    11\n",
      "11031    36\n",
      "         ..\n",
      "3045      4\n",
      "12005     1\n",
      "17935    27\n",
      "2138     41\n",
      "18085    40\n",
      "Name: region, Length: 5296, dtype: int64\n",
      "0.7888972809667674\n",
      "[[84  0  0 ...  0  0  0]\n",
      " [ 0 74  0 ...  0  0  3]\n",
      " [ 0  0 83 ...  0  0  0]\n",
      " ...\n",
      " [ 0  0  0 ... 51  0  0]\n",
      " [ 0  0  0 ...  0 66  0]\n",
      " [ 0  1  0 ...  0  0 56]]\n",
      "              precision    recall  f1-score   support\n",
      "\n",
      "           0       0.77      0.81      0.79       104\n",
      "           1       0.72      0.69      0.70       108\n",
      "           2       0.92      0.93      0.93        89\n",
      "           3       0.80      0.75      0.77       115\n",
      "           4       0.92      0.85      0.88       102\n",
      "           5       0.71      0.73      0.72       109\n",
      "           6       0.96      0.96      0.96        89\n",
      "           7       0.75      0.82      0.78        93\n",
      "           8       0.93      0.93      0.93       109\n",
      "           9       0.76      0.76      0.76        92\n",
      "          10       0.64      0.68      0.66        95\n",
      "          11       0.86      0.88      0.87       101\n",
      "          12       0.83      0.84      0.83       110\n",
      "          13       0.68      0.71      0.69       106\n",
      "          14       0.81      0.84      0.83        93\n",
      "          15       0.92      0.93      0.93        90\n",
      "          16       0.79      0.91      0.84        87\n",
      "          17       0.83      0.67      0.74        81\n",
      "          18       0.85      0.87      0.86       105\n",
      "          19       0.88      0.84      0.86       108\n",
      "          20       0.85      0.84      0.85       101\n",
      "          21       0.71      0.65      0.68       108\n",
      "          22       0.88      0.93      0.90       110\n",
      "          23       0.74      0.80      0.77       111\n",
      "          24       0.55      0.58      0.57        96\n",
      "          25       0.93      0.92      0.93       104\n",
      "          26       0.61      0.51      0.56        88\n",
      "          27       0.75      0.80      0.78        86\n",
      "          28       0.86      0.89      0.88       100\n",
      "          29       0.91      0.87      0.89       108\n",
      "          30       0.90      0.95      0.93        98\n",
      "          31       0.58      0.64      0.61       108\n",
      "          32       0.78      0.78      0.78       100\n",
      "          33       0.74      0.68      0.71        93\n",
      "          34       0.89      0.76      0.82       103\n",
      "          35       0.89      0.86      0.88       119\n",
      "          36       0.62      0.62      0.62        95\n",
      "          37       0.73      0.76      0.74        91\n",
      "          38       0.77      0.84      0.80       102\n",
      "          39       0.78      0.79      0.79        96\n",
      "          40       0.82      0.84      0.83       117\n",
      "          41       0.74      0.77      0.75       104\n",
      "          42       0.87      0.90      0.88        87\n",
      "          43       0.71      0.75      0.73        96\n",
      "          44       0.75      0.80      0.77       102\n",
      "          45       0.89      0.91      0.90        75\n",
      "          46       0.88      0.87      0.88        86\n",
      "          47       0.82      0.71      0.76       104\n",
      "          48       0.76      0.64      0.70        98\n",
      "          49       0.77      0.72      0.74       106\n",
      "          50       0.45      0.41      0.43       116\n",
      "          51       0.98      1.00      0.99        51\n",
      "          52       0.90      0.90      0.90        73\n",
      "          53       0.62      0.72      0.67        78\n",
      "\n",
      "    accuracy                           0.79      5296\n",
      "   macro avg       0.79      0.79      0.79      5296\n",
      "weighted avg       0.79      0.79      0.79      5296\n",
      "\n",
      "\n",
      "\n",
      "Predicted result value: [ 0 13 10 ...  0 21  4]\n",
      "actual value 5628      0\n",
      "676      13\n",
      "13157    23\n",
      "15373    11\n",
      "11031    36\n",
      "         ..\n",
      "3045      4\n",
      "12005     1\n",
      "17935    27\n",
      "2138     41\n",
      "18085    40\n",
      "Name: region, Length: 5296, dtype: int64\n",
      "0.23583836858006044\n",
      "[[16  3  2 ...  0  0  0]\n",
      " [ 4 38  4 ...  0  0  1]\n",
      " [ 6  6 41 ...  0  0  0]\n",
      " ...\n",
      " [ 0  0  0 ... 50  0  0]\n",
      " [ 0  1  2 ...  1 50  0]\n",
      " [ 5  6  3 ...  0  0 22]]\n",
      "              precision    recall  f1-score   support\n",
      "\n",
      "           0       0.04      0.15      0.06       104\n",
      "           1       0.12      0.35      0.18       108\n",
      "           2       0.15      0.46      0.22        89\n",
      "           3       0.06      0.14      0.08       115\n",
      "           4       0.11      0.25      0.15       102\n",
      "           5       0.05      0.15      0.08       109\n",
      "           6       0.49      0.53      0.51        89\n",
      "           7       0.07      0.15      0.10        93\n",
      "           8       0.31      0.46      0.37       109\n",
      "           9       0.12      0.26      0.16        92\n",
      "          10       0.03      0.09      0.05        95\n",
      "          11       0.26      0.37      0.30       101\n",
      "          12       0.49      0.47      0.48       110\n",
      "          13       0.20      0.32      0.25       106\n",
      "          14       0.11      0.16      0.13        93\n",
      "          15       0.53      0.44      0.48        90\n",
      "          16       0.03      0.05      0.04        87\n",
      "          17       0.20      0.23      0.22        81\n",
      "          18       0.32      0.24      0.27       105\n",
      "          19       0.12      0.10      0.11       108\n",
      "          20       0.05      0.06      0.06       101\n",
      "          21       0.13      0.11      0.12       108\n",
      "          22       0.72      0.50      0.59       110\n",
      "          23       0.04      0.02      0.03       111\n",
      "          24       0.30      0.18      0.22        96\n",
      "          25       0.71      0.49      0.58       104\n",
      "          26       0.10      0.06      0.07        88\n",
      "          27       0.16      0.08      0.11        86\n",
      "          28       0.74      0.54      0.62       100\n",
      "          29       0.94      0.60      0.73       108\n",
      "          30       0.27      0.09      0.14        98\n",
      "          31       0.08      0.04      0.05       108\n",
      "          32       0.40      0.10      0.16       100\n",
      "          33       0.55      0.34      0.42        93\n",
      "          34       0.04      0.01      0.02       103\n",
      "          35       0.85      0.49      0.62       119\n",
      "          36       0.36      0.17      0.23        95\n",
      "          37       0.27      0.12      0.17        91\n",
      "          38       0.06      0.01      0.02       102\n",
      "          39       0.00      0.00      0.00        96\n",
      "          40       0.51      0.17      0.26       117\n",
      "          41       0.78      0.24      0.37       104\n",
      "          42       0.67      0.34      0.45        87\n",
      "          43       0.54      0.20      0.29        96\n",
      "          44       0.47      0.08      0.13       102\n",
      "          45       0.83      0.40      0.54        75\n",
      "          46       0.81      0.40      0.53        86\n",
      "          47       0.09      0.02      0.03       104\n",
      "          48       0.15      0.02      0.04        98\n",
      "          49       0.14      0.05      0.07       106\n",
      "          50       0.11      0.03      0.04       116\n",
      "          51       0.96      0.98      0.97        51\n",
      "          52       0.91      0.68      0.78        73\n",
      "          53       0.46      0.28      0.35        78\n",
      "\n",
      "    accuracy                           0.24      5296\n",
      "   macro avg       0.33      0.25      0.26      5296\n",
      "weighted avg       0.32      0.24      0.25      5296\n",
      "\n",
      "\n",
      "\n"
     ]
    },
    {
     "name": "stdout",
     "output_type": "stream",
     "text": [
      "Predicted result value: [37 37  4 ...  4 31 13]\n",
      "actual value 5628      0\n",
      "676      13\n",
      "13157    23\n",
      "15373    11\n",
      "11031    36\n",
      "         ..\n",
      "3045      4\n",
      "12005     1\n",
      "17935    27\n",
      "2138     41\n",
      "18085    40\n",
      "Name: region, Length: 5296, dtype: int64\n",
      "0.0726963746223565\n",
      "[[ 0  0  0 ...  0  0  0]\n",
      " [ 0  0  0 ...  0  0 10]\n",
      " [ 0  0 44 ...  0  0  0]\n",
      " ...\n",
      " [ 0  0 19 ...  0  0  0]\n",
      " [ 0  0  0 ...  0  0  0]\n",
      " [ 0  0  0 ...  0  0 28]]\n",
      "              precision    recall  f1-score   support\n",
      "\n",
      "           0       0.00      0.00      0.00       104\n",
      "           1       0.00      0.00      0.00       108\n",
      "           2       0.11      0.49      0.18        89\n",
      "           3       0.00      0.00      0.00       115\n",
      "           4       0.04      0.24      0.06       102\n",
      "           5       0.00      0.00      0.00       109\n",
      "           6       0.00      0.00      0.00        89\n",
      "           7       0.33      0.01      0.02        93\n",
      "           8       0.00      0.00      0.00       109\n",
      "           9       0.00      0.00      0.00        92\n",
      "          10       0.00      0.00      0.00        95\n",
      "          11       0.19      0.11      0.14       101\n",
      "          12       1.00      0.01      0.02       110\n",
      "          13       0.05      0.42      0.09       106\n",
      "          14       0.00      0.00      0.00        93\n",
      "          15       0.00      0.00      0.00        90\n",
      "          16       0.41      0.41      0.41        87\n",
      "          17       0.00      0.00      0.00        81\n",
      "          18       0.09      0.40      0.15       105\n",
      "          19       0.00      0.00      0.00       108\n",
      "          20       0.00      0.00      0.00       101\n",
      "          21       0.00      0.00      0.00       108\n",
      "          22       0.00      0.00      0.00       110\n",
      "          23       0.00      0.00      0.00       111\n",
      "          24       0.00      0.00      0.00        96\n",
      "          25       0.00      0.00      0.00       104\n",
      "          26       0.00      0.00      0.00        88\n",
      "          27       0.00      0.00      0.00        86\n",
      "          28       0.00      0.00      0.00       100\n",
      "          29       0.00      0.00      0.00       108\n",
      "          30       0.00      0.00      0.00        98\n",
      "          31       0.14      0.32      0.19       108\n",
      "          32       0.00      0.00      0.00       100\n",
      "          33       0.00      0.00      0.00        93\n",
      "          34       0.00      0.00      0.00       103\n",
      "          35       0.00      0.00      0.00       119\n",
      "          36       0.05      0.11      0.06        95\n",
      "          37       0.05      1.00      0.09        91\n",
      "          38       0.00      0.00      0.00       102\n",
      "          39       0.00      0.00      0.00        96\n",
      "          40       0.00      0.00      0.00       117\n",
      "          41       0.00      0.00      0.00       104\n",
      "          42       0.00      0.00      0.00        87\n",
      "          43       0.00      0.00      0.00        96\n",
      "          44       0.13      0.17      0.15       102\n",
      "          45       0.00      0.00      0.00        75\n",
      "          46       0.00      0.00      0.00        86\n",
      "          47       0.00      0.00      0.00       104\n",
      "          48       0.00      0.00      0.00        98\n",
      "          49       0.00      0.00      0.00       106\n",
      "          50       0.00      0.00      0.00       116\n",
      "          51       0.00      0.00      0.00        51\n",
      "          52       0.00      0.00      0.00        73\n",
      "          53       0.33      0.36      0.34        78\n",
      "\n",
      "    accuracy                           0.07      5296\n",
      "   macro avg       0.05      0.08      0.04      5296\n",
      "weighted avg       0.05      0.07      0.03      5296\n",
      "\n",
      "\n",
      "\n",
      "Predicted result value: [ 0 13 23 ... 27 41 40]\n",
      "actual value 5628      0\n",
      "676      13\n",
      "13157    23\n",
      "15373    11\n",
      "11031    36\n",
      "         ..\n",
      "3045      4\n",
      "12005     1\n",
      "17935    27\n",
      "2138     41\n",
      "18085    40\n",
      "Name: region, Length: 5296, dtype: int64\n",
      "0.831570996978852\n",
      "[[88  0  0 ...  0  0  0]\n",
      " [ 0 75  0 ...  0  0  2]\n",
      " [ 0  0 84 ...  0  0  1]\n",
      " ...\n",
      " [ 0  0  0 ... 49  1  0]\n",
      " [ 0  0  0 ...  1 66  0]\n",
      " [ 0  0  1 ...  0  0 66]]\n",
      "              precision    recall  f1-score   support\n",
      "\n",
      "           0       0.84      0.85      0.84       104\n",
      "           1       0.77      0.69      0.73       108\n",
      "           2       0.93      0.94      0.94        89\n",
      "           3       0.84      0.75      0.79       115\n",
      "           4       0.88      0.81      0.85       102\n",
      "           5       0.72      0.73      0.73       109\n",
      "           6       0.99      0.98      0.98        89\n",
      "           7       0.86      0.88      0.87        93\n",
      "           8       0.97      0.92      0.94       109\n",
      "           9       0.83      0.76      0.80        92\n",
      "          10       0.68      0.80      0.73        95\n",
      "          11       0.88      0.89      0.89       101\n",
      "          12       0.89      0.95      0.92       110\n",
      "          13       0.73      0.78      0.76       106\n",
      "          14       0.84      0.85      0.84        93\n",
      "          15       0.92      0.96      0.94        90\n",
      "          16       0.90      0.94      0.92        87\n",
      "          17       0.81      0.75      0.78        81\n",
      "          18       0.84      0.84      0.84       105\n",
      "          19       0.84      0.86      0.85       108\n",
      "          20       0.95      0.90      0.92       101\n",
      "          21       0.84      0.75      0.79       108\n",
      "          22       0.94      0.97      0.96       110\n",
      "          23       0.76      0.79      0.78       111\n",
      "          24       0.61      0.66      0.63        96\n",
      "          25       0.94      0.94      0.94       104\n",
      "          26       0.69      0.66      0.67        88\n",
      "          27       0.78      0.80      0.79        86\n",
      "          28       0.89      0.92      0.91       100\n",
      "          29       0.94      0.94      0.94       108\n",
      "          30       0.85      0.93      0.89        98\n",
      "          31       0.62      0.59      0.61       108\n",
      "          32       0.85      0.85      0.85       100\n",
      "          33       0.76      0.80      0.77        93\n",
      "          34       0.88      0.87      0.88       103\n",
      "          35       0.91      0.93      0.92       119\n",
      "          36       0.83      0.72      0.77        95\n",
      "          37       0.79      0.81      0.80        91\n",
      "          38       0.85      0.76      0.80       102\n",
      "          39       0.83      0.89      0.86        96\n",
      "          40       0.84      0.82      0.83       117\n",
      "          41       0.80      0.79      0.80       104\n",
      "          42       0.91      0.91      0.91        87\n",
      "          43       0.86      0.83      0.85        96\n",
      "          44       0.80      0.85      0.82       102\n",
      "          45       0.96      0.96      0.96        75\n",
      "          46       0.92      0.92      0.92        86\n",
      "          47       0.85      0.84      0.84       104\n",
      "          48       0.78      0.81      0.79        98\n",
      "          49       0.82      0.75      0.78       106\n",
      "          50       0.49      0.48      0.49       116\n",
      "          51       0.96      0.96      0.96        51\n",
      "          52       0.93      0.90      0.92        73\n",
      "          53       0.69      0.85      0.76        78\n",
      "\n",
      "    accuracy                           0.83      5296\n",
      "   macro avg       0.84      0.84      0.83      5296\n",
      "weighted avg       0.83      0.83      0.83      5296\n",
      "\n",
      "\n",
      "\n"
     ]
    }
   ],
   "source": [
    "svc=SVC()\n",
    "dtc=DecisionTreeClassifier()\n",
    "knc=KNeighborsClassifier()\n",
    "adc=AdaBoostClassifier()\n",
    "gbc=GradientBoostingClassifier()\n",
    "\n",
    "model_c=[svc,dtc,knc,adc,gbc]\n",
    "\n",
    "for n in model_c:\n",
    "    n.fit(x1_train,y1_train)\n",
    "    n.score(x1_train,y1_train)\n",
    "    predn=n.predict(x1_test)\n",
    "    print('Predicted result value:',predn)\n",
    "    print('actual value',y1_test)\n",
    "    print(accuracy_score(y1_test,predn))\n",
    "    print(confusion_matrix(y1_test,predn))\n",
    "    print(classification_report(y1_test,predn))\n",
    "    print('\\n')"
   ]
  },
  {
   "cell_type": "markdown",
   "id": "ffac6c37",
   "metadata": {},
   "source": [
    "From above loop we have found out accuracy of all the models, and best one comes out is of GradientBoostingClassifier. i.e. 83% and then second best is of DecisionTreeClassifier i.e 79%. We will check the Cross Validation score to check which is the best model to predict."
   ]
  },
  {
   "cell_type": "markdown",
   "id": "5b4cafab",
   "metadata": {},
   "source": [
    "# Cross Validation"
   ]
  },
  {
   "cell_type": "code",
   "execution_count": 207,
   "id": "68a67526",
   "metadata": {},
   "outputs": [
    {
     "name": "stdout",
     "output_type": "stream",
     "text": [
      "[0.26342624 0.24796057 0.05881353]\n",
      "0.19006678073478991\n",
      "0.0930245792062352\n"
     ]
    }
   ],
   "source": [
    "svc=SVC()\n",
    "score=cross_val_score(svc,x1,y1,cv=3)\n",
    "print(score)\n",
    "print (score.mean())\n",
    "print (score.std())"
   ]
  },
  {
   "cell_type": "code",
   "execution_count": 213,
   "id": "3250cc6a",
   "metadata": {},
   "outputs": [
    {
     "name": "stdout",
     "output_type": "stream",
     "text": [
      "[0.42522094 0.48470428 0.35390107]\n",
      "0.4212754306067801\n",
      "0.05347301708532727\n"
     ]
    }
   ],
   "source": [
    "dtc=DecisionTreeClassifier()\n",
    "score=cross_val_score(dtc,x1,y1,cv=3)\n",
    "print(score)\n",
    "print (score.mean())\n",
    "print (score.std())"
   ]
  },
  {
   "cell_type": "code",
   "execution_count": 214,
   "id": "123384c7",
   "metadata": {},
   "outputs": [
    {
     "name": "stdout",
     "output_type": "stream",
     "text": [
      "[0.22382733 0.17590075 0.04487506]\n",
      "0.14820104662722314\n",
      "0.0756369985973672\n"
     ]
    }
   ],
   "source": [
    "knc=KNeighborsClassifier()\n",
    "score=cross_val_score(knc,x1,y1,cv=3)\n",
    "print(score)\n",
    "print (score.mean())\n",
    "print (score.std())"
   ]
  },
  {
   "cell_type": "code",
   "execution_count": 215,
   "id": "8cb96cbd",
   "metadata": {},
   "outputs": [
    {
     "name": "stdout",
     "output_type": "stream",
     "text": [
      "[0.0739293  0.05659415 0.03892572]\n",
      "0.05648305720134664\n",
      "0.01429036828214482\n"
     ]
    }
   ],
   "source": [
    "adc=AdaBoostClassifier()\n",
    "score=cross_val_score(adc,x1,y1,cv=3)\n",
    "print(score)\n",
    "print (score.mean())\n",
    "print (score.std())"
   ]
  },
  {
   "cell_type": "code",
   "execution_count": 216,
   "id": "0134c4ea",
   "metadata": {},
   "outputs": [
    {
     "name": "stdout",
     "output_type": "stream",
     "text": [
      "[0.2996261  0.57188987 0.32500425]\n",
      "0.3988400750198013\n",
      "0.122802514721721\n"
     ]
    }
   ],
   "source": [
    "gbc=GradientBoostingClassifier()\n",
    "score=cross_val_score(gbc,x1,y1,cv=3)\n",
    "print(score)\n",
    "print (score.mean())\n",
    "print (score.std())"
   ]
  },
  {
   "cell_type": "markdown",
   "id": "6f94b472",
   "metadata": {},
   "source": [
    "Here we can see that mean of model DecisionTreeClassifier comes out to be 0.42 and that of GradientBoostingClassifier is 0.39. So, here best mean is of DecisionTreeClassifier.\n",
    "As we can see that Accuracy score of GradientBoostingClassifier is best and mean of DecisionTreeClassifier is best, so we will try to tune both the models and checkout the results."
   ]
  },
  {
   "cell_type": "markdown",
   "id": "56390348",
   "metadata": {},
   "source": [
    "# Hypermeter Tuning"
   ]
  },
  {
   "cell_type": "code",
   "execution_count": 217,
   "id": "5c8fed6e",
   "metadata": {},
   "outputs": [],
   "source": [
    "from sklearn.model_selection import GridSearchCV"
   ]
  },
  {
   "cell_type": "code",
   "execution_count": 218,
   "id": "64f09d15",
   "metadata": {},
   "outputs": [],
   "source": [
    "param_dtc={'criterion':['gini','entropy']}\n",
    "modeldtc=DecisionTreeClassifier()"
   ]
  },
  {
   "cell_type": "code",
   "execution_count": 219,
   "id": "baa5de4a",
   "metadata": {},
   "outputs": [
    {
     "name": "stdout",
     "output_type": "stream",
     "text": [
      "GridSearchCV(estimator=DecisionTreeClassifier(),\n",
      "             param_grid={'criterion': ['gini', 'entropy']})\n",
      "0.5413332338502442\n",
      "DecisionTreeClassifier()\n",
      "{'criterion': 'gini'}\n"
     ]
    }
   ],
   "source": [
    "griddtc=GridSearchCV(estimator=modeldtc,param_grid=param_dtc)\n",
    "griddtc.fit(x1,y1)\n",
    "print(griddtc)\n",
    "print(griddtc.best_score_)\n",
    "print(griddtc.best_estimator_)\n",
    "print(griddtc.best_params_)"
   ]
  },
  {
   "cell_type": "markdown",
   "id": "33ac96a4",
   "metadata": {},
   "source": [
    "As we can see that above, best parameter for DecisionTreeClassifier is \"gini\" and this is the default one and we have already calculated accuracy of 79% using gini. So, we will not calculate it again. "
   ]
  },
  {
   "cell_type": "raw",
   "id": "aba3f542",
   "metadata": {},
   "source": [
    "From the above all results, we have found out that accuracy of GradientBoostingClassifier is best i.e 83%. So, we are choosing this model as best model for predicting Region."
   ]
  },
  {
   "cell_type": "markdown",
   "id": "22b9fec9",
   "metadata": {},
   "source": [
    "So, we will save our file below and use the best model \"knr\" for predicting average price."
   ]
  },
  {
   "cell_type": "code",
   "execution_count": 222,
   "id": "c30cbb4e",
   "metadata": {},
   "outputs": [],
   "source": [
    "import pickle\n",
    "filename='Avocado.pkl'\n",
    "pickle.dump(knr, open(filename,'wb'))"
   ]
  }
 ],
 "metadata": {
  "kernelspec": {
   "display_name": "Python 3",
   "language": "python",
   "name": "python3"
  }
 },
 "nbformat": 4,
 "nbformat_minor": 5
}
